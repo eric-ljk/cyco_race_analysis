{
 "cells": [
  {
   "cell_type": "markdown",
   "id": "40b7f455",
   "metadata": {},
   "source": [
    "# Analysing Trail Run Results from cycosports"
   ]
  },
  {
   "cell_type": "markdown",
   "id": "eabc6b46",
   "metadata": {},
   "source": [
    "This is the second part of the analysis project. In the first part, the data was cleaned and prepared after retrieval from the source. Now, we will try to gain some insights from the data, by using a variety of plotting methods."
   ]
  },
  {
   "cell_type": "markdown",
   "id": "5a6a43c8",
   "metadata": {},
   "source": [
    "# 2. Analysing the data\n",
    "\n",
    "We will conduct exploratory data analysis.\n",
    "\n",
    "First, we import the necessary libraries and load the DataFrame."
   ]
  },
  {
   "cell_type": "code",
   "execution_count": 1,
   "id": "4a80cd97",
   "metadata": {},
   "outputs": [
    {
     "name": "stdout",
     "output_type": "stream",
     "text": [
      "-----\n",
      "matplotlib          3.3.4\n",
      "numpy               1.20.2\n",
      "pandas              1.2.4\n",
      "seaborn             0.11.1\n",
      "session_info        1.0.0\n",
      "-----\n",
      "IPython             7.22.0\n",
      "jupyter_client      6.1.12\n",
      "jupyter_core        4.7.1\n",
      "notebook            6.4.0\n",
      "-----\n",
      "Python 3.9.5 (default, May 18 2021, 14:42:02) [MSC v.1916 64 bit (AMD64)]\n",
      "Windows-10-10.0.19043-SP0\n",
      "-----\n",
      "Session information updated at 2021-08-21 18:31\n"
     ]
    }
   ],
   "source": [
    "import pandas as pd \n",
    "import numpy as np\n",
    "import matplotlib.pyplot as plt\n",
    "import matplotlib.ticker as ticker \n",
    "import seaborn as sns\n",
    "import session_info \n",
    "\n",
    "session_info.show(html=False)"
   ]
  },
  {
   "cell_type": "code",
   "execution_count": 2,
   "id": "adult-patient",
   "metadata": {},
   "outputs": [],
   "source": [
    "df = pd.read_csv(\"results_clean.csv\")"
   ]
  },
  {
   "cell_type": "code",
   "execution_count": 3,
   "id": "c34f98ae",
   "metadata": {},
   "outputs": [],
   "source": [
    "# Uncomment below in Jupyter Notebook to display all rows of tables:\n",
    "# pd.set_option(\"display.max_rows\", None) \n",
    "# Also, do not call .head()\n",
    "\n",
    "# To undo it:\n",
    "# pd.reset_option('display.max_rows')"
   ]
  },
  {
   "cell_type": "code",
   "execution_count": 4,
   "id": "c24c962d",
   "metadata": {},
   "outputs": [
    {
     "data": {
      "text/html": [
       "<div>\n",
       "<style scoped>\n",
       "    .dataframe tbody tr th:only-of-type {\n",
       "        vertical-align: middle;\n",
       "    }\n",
       "\n",
       "    .dataframe tbody tr th {\n",
       "        vertical-align: top;\n",
       "    }\n",
       "\n",
       "    .dataframe thead th {\n",
       "        text-align: right;\n",
       "    }\n",
       "</style>\n",
       "<table border=\"1\" class=\"dataframe\">\n",
       "  <thead>\n",
       "    <tr style=\"text-align: right;\">\n",
       "      <th></th>\n",
       "      <th>category_rank</th>\n",
       "      <th>event_rank</th>\n",
       "      <th>name</th>\n",
       "      <th>club</th>\n",
       "      <th>start</th>\n",
       "      <th>lap_1</th>\n",
       "      <th>lap_2</th>\n",
       "      <th>time</th>\n",
       "      <th>distance</th>\n",
       "      <th>event</th>\n",
       "      <th>age</th>\n",
       "      <th>gender</th>\n",
       "      <th>category</th>\n",
       "      <th>bib_number</th>\n",
       "    </tr>\n",
       "  </thead>\n",
       "  <tbody>\n",
       "    <tr>\n",
       "      <th>0</th>\n",
       "      <td>1</td>\n",
       "      <td>1</td>\n",
       "      <td>Malachy Kirwan</td>\n",
       "      <td>None</td>\n",
       "      <td>2021-04-04 07:16:17.700</td>\n",
       "      <td>00:21:09.20</td>\n",
       "      <td>00:21:55.00</td>\n",
       "      <td>00:43:04.20</td>\n",
       "      <td>10km</td>\n",
       "      <td>Open</td>\n",
       "      <td>13+</td>\n",
       "      <td>Male</td>\n",
       "      <td>Open</td>\n",
       "      <td>316</td>\n",
       "    </tr>\n",
       "    <tr>\n",
       "      <th>1</th>\n",
       "      <td>2</td>\n",
       "      <td>2</td>\n",
       "      <td>William Petty</td>\n",
       "      <td>Coached</td>\n",
       "      <td>2021-04-04 07:16:18.700</td>\n",
       "      <td>00:21:43.80</td>\n",
       "      <td>00:22:00.40</td>\n",
       "      <td>00:43:44.20</td>\n",
       "      <td>10km</td>\n",
       "      <td>Open</td>\n",
       "      <td>13+</td>\n",
       "      <td>Male</td>\n",
       "      <td>Open</td>\n",
       "      <td>267</td>\n",
       "    </tr>\n",
       "    <tr>\n",
       "      <th>2</th>\n",
       "      <td>3</td>\n",
       "      <td>4</td>\n",
       "      <td>Chris Timms</td>\n",
       "      <td>Dulwich Runners</td>\n",
       "      <td>2021-04-04 07:16:58.300</td>\n",
       "      <td>00:22:15.30</td>\n",
       "      <td>00:23:27.00</td>\n",
       "      <td>00:45:42.30</td>\n",
       "      <td>10km</td>\n",
       "      <td>Open</td>\n",
       "      <td>13+</td>\n",
       "      <td>Male</td>\n",
       "      <td>Open</td>\n",
       "      <td>251</td>\n",
       "    </tr>\n",
       "    <tr>\n",
       "      <th>3</th>\n",
       "      <td>4</td>\n",
       "      <td>6</td>\n",
       "      <td>Benoit Besnier</td>\n",
       "      <td>COS Coaching</td>\n",
       "      <td>2021-04-04 07:16:17.800</td>\n",
       "      <td>00:23:32.70</td>\n",
       "      <td>00:24:02.80</td>\n",
       "      <td>00:47:35.50</td>\n",
       "      <td>10km</td>\n",
       "      <td>Open</td>\n",
       "      <td>13+</td>\n",
       "      <td>Male</td>\n",
       "      <td>Open</td>\n",
       "      <td>320</td>\n",
       "    </tr>\n",
       "    <tr>\n",
       "      <th>4</th>\n",
       "      <td>5</td>\n",
       "      <td>7</td>\n",
       "      <td>Daniel Rose</td>\n",
       "      <td>Coached Fitness</td>\n",
       "      <td>2021-04-04 07:16:59.200</td>\n",
       "      <td>00:22:55.10</td>\n",
       "      <td>00:24:41.30</td>\n",
       "      <td>00:47:36.40</td>\n",
       "      <td>10km</td>\n",
       "      <td>Open</td>\n",
       "      <td>13+</td>\n",
       "      <td>Male</td>\n",
       "      <td>Open</td>\n",
       "      <td>311</td>\n",
       "    </tr>\n",
       "  </tbody>\n",
       "</table>\n",
       "</div>"
      ],
      "text/plain": [
       "   category_rank  event_rank             name             club  \\\n",
       "0              1           1  Malachy Kirwan              None   \n",
       "1              2           2   William Petty           Coached   \n",
       "2              3           4     Chris Timms   Dulwich Runners   \n",
       "3              4           6  Benoit Besnier      COS Coaching   \n",
       "4              5           7     Daniel Rose   Coached Fitness   \n",
       "\n",
       "                     start        lap_1        lap_2         time distance  \\\n",
       "0  2021-04-04 07:16:17.700  00:21:09.20  00:21:55.00  00:43:04.20    10km    \n",
       "1  2021-04-04 07:16:18.700  00:21:43.80  00:22:00.40  00:43:44.20    10km    \n",
       "2  2021-04-04 07:16:58.300  00:22:15.30  00:23:27.00  00:45:42.30    10km    \n",
       "3  2021-04-04 07:16:17.800  00:23:32.70  00:24:02.80  00:47:35.50    10km    \n",
       "4  2021-04-04 07:16:59.200  00:22:55.10  00:24:41.30  00:47:36.40    10km    \n",
       "\n",
       "    event   age gender category bib_number  \n",
       "0   Open    13+   Male    Open         316  \n",
       "1   Open    13+   Male    Open         267  \n",
       "2   Open    13+   Male    Open         251  \n",
       "3   Open    13+   Male    Open         320  \n",
       "4   Open    13+   Male    Open         311  "
      ]
     },
     "execution_count": 4,
     "metadata": {},
     "output_type": "execute_result"
    }
   ],
   "source": [
    "df.head()"
   ]
  },
  {
   "cell_type": "markdown",
   "id": "d73126e1",
   "metadata": {},
   "source": [
    "## Converting the times to the Pandas timedelta object\n",
    "\n",
    "We will opt to convert the entries into number of seconds taken to complete the race."
   ]
  },
  {
   "cell_type": "code",
   "execution_count": 5,
   "id": "gorgeous-hollow",
   "metadata": {},
   "outputs": [],
   "source": [
    "df[[\"lap_1\", \"lap_2\", \"time\"]] = df[[\"lap_1\", \"lap_2\", \"time\"]].apply(pd.to_timedelta)\n",
    "df[[\"lap_1\", \"lap_2\", \"time\"]] = df[[\"lap_1\", \"lap_2\", \"time\"]].apply(lambda x: x.astype('timedelta64[s]'))"
   ]
  },
  {
   "cell_type": "code",
   "execution_count": 6,
   "id": "relative-funds",
   "metadata": {},
   "outputs": [
    {
     "data": {
      "text/html": [
       "<div>\n",
       "<style scoped>\n",
       "    .dataframe tbody tr th:only-of-type {\n",
       "        vertical-align: middle;\n",
       "    }\n",
       "\n",
       "    .dataframe tbody tr th {\n",
       "        vertical-align: top;\n",
       "    }\n",
       "\n",
       "    .dataframe thead th {\n",
       "        text-align: right;\n",
       "    }\n",
       "</style>\n",
       "<table border=\"1\" class=\"dataframe\">\n",
       "  <thead>\n",
       "    <tr style=\"text-align: right;\">\n",
       "      <th></th>\n",
       "      <th>category_rank</th>\n",
       "      <th>event_rank</th>\n",
       "      <th>name</th>\n",
       "      <th>club</th>\n",
       "      <th>start</th>\n",
       "      <th>lap_1</th>\n",
       "      <th>lap_2</th>\n",
       "      <th>time</th>\n",
       "      <th>distance</th>\n",
       "      <th>event</th>\n",
       "      <th>age</th>\n",
       "      <th>gender</th>\n",
       "      <th>category</th>\n",
       "      <th>bib_number</th>\n",
       "    </tr>\n",
       "  </thead>\n",
       "  <tbody>\n",
       "    <tr>\n",
       "      <th>0</th>\n",
       "      <td>1</td>\n",
       "      <td>1</td>\n",
       "      <td>Malachy Kirwan</td>\n",
       "      <td>None</td>\n",
       "      <td>2021-04-04 07:16:17.700</td>\n",
       "      <td>1269.0</td>\n",
       "      <td>1315.0</td>\n",
       "      <td>2584.0</td>\n",
       "      <td>10km</td>\n",
       "      <td>Open</td>\n",
       "      <td>13+</td>\n",
       "      <td>Male</td>\n",
       "      <td>Open</td>\n",
       "      <td>316</td>\n",
       "    </tr>\n",
       "    <tr>\n",
       "      <th>1</th>\n",
       "      <td>2</td>\n",
       "      <td>2</td>\n",
       "      <td>William Petty</td>\n",
       "      <td>Coached</td>\n",
       "      <td>2021-04-04 07:16:18.700</td>\n",
       "      <td>1303.0</td>\n",
       "      <td>1320.0</td>\n",
       "      <td>2624.0</td>\n",
       "      <td>10km</td>\n",
       "      <td>Open</td>\n",
       "      <td>13+</td>\n",
       "      <td>Male</td>\n",
       "      <td>Open</td>\n",
       "      <td>267</td>\n",
       "    </tr>\n",
       "    <tr>\n",
       "      <th>2</th>\n",
       "      <td>3</td>\n",
       "      <td>4</td>\n",
       "      <td>Chris Timms</td>\n",
       "      <td>Dulwich Runners</td>\n",
       "      <td>2021-04-04 07:16:58.300</td>\n",
       "      <td>1335.0</td>\n",
       "      <td>1407.0</td>\n",
       "      <td>2742.0</td>\n",
       "      <td>10km</td>\n",
       "      <td>Open</td>\n",
       "      <td>13+</td>\n",
       "      <td>Male</td>\n",
       "      <td>Open</td>\n",
       "      <td>251</td>\n",
       "    </tr>\n",
       "    <tr>\n",
       "      <th>3</th>\n",
       "      <td>4</td>\n",
       "      <td>6</td>\n",
       "      <td>Benoit Besnier</td>\n",
       "      <td>COS Coaching</td>\n",
       "      <td>2021-04-04 07:16:17.800</td>\n",
       "      <td>1412.0</td>\n",
       "      <td>1442.0</td>\n",
       "      <td>2855.0</td>\n",
       "      <td>10km</td>\n",
       "      <td>Open</td>\n",
       "      <td>13+</td>\n",
       "      <td>Male</td>\n",
       "      <td>Open</td>\n",
       "      <td>320</td>\n",
       "    </tr>\n",
       "    <tr>\n",
       "      <th>4</th>\n",
       "      <td>5</td>\n",
       "      <td>7</td>\n",
       "      <td>Daniel Rose</td>\n",
       "      <td>Coached Fitness</td>\n",
       "      <td>2021-04-04 07:16:59.200</td>\n",
       "      <td>1375.0</td>\n",
       "      <td>1481.0</td>\n",
       "      <td>2856.0</td>\n",
       "      <td>10km</td>\n",
       "      <td>Open</td>\n",
       "      <td>13+</td>\n",
       "      <td>Male</td>\n",
       "      <td>Open</td>\n",
       "      <td>311</td>\n",
       "    </tr>\n",
       "  </tbody>\n",
       "</table>\n",
       "</div>"
      ],
      "text/plain": [
       "   category_rank  event_rank             name             club  \\\n",
       "0              1           1  Malachy Kirwan              None   \n",
       "1              2           2   William Petty           Coached   \n",
       "2              3           4     Chris Timms   Dulwich Runners   \n",
       "3              4           6  Benoit Besnier      COS Coaching   \n",
       "4              5           7     Daniel Rose   Coached Fitness   \n",
       "\n",
       "                     start   lap_1   lap_2    time distance   event   age  \\\n",
       "0  2021-04-04 07:16:17.700  1269.0  1315.0  2584.0    10km    Open    13+   \n",
       "1  2021-04-04 07:16:18.700  1303.0  1320.0  2624.0    10km    Open    13+   \n",
       "2  2021-04-04 07:16:58.300  1335.0  1407.0  2742.0    10km    Open    13+   \n",
       "3  2021-04-04 07:16:17.800  1412.0  1442.0  2855.0    10km    Open    13+   \n",
       "4  2021-04-04 07:16:59.200  1375.0  1481.0  2856.0    10km    Open    13+   \n",
       "\n",
       "  gender category bib_number  \n",
       "0   Male    Open         316  \n",
       "1   Male    Open         267  \n",
       "2   Male    Open         251  \n",
       "3   Male    Open         320  \n",
       "4   Male    Open         311  "
      ]
     },
     "execution_count": 6,
     "metadata": {},
     "output_type": "execute_result"
    }
   ],
   "source": [
    "df.head()"
   ]
  },
  {
   "cell_type": "markdown",
   "id": "6fc4960c",
   "metadata": {},
   "source": [
    "## Focusing on the 10km runners"
   ]
  },
  {
   "cell_type": "code",
   "execution_count": 7,
   "id": "17a206a1",
   "metadata": {
    "scrolled": false
   },
   "outputs": [
    {
     "data": {
      "text/plain": [
       "10km     114\n",
       "3km       31\n",
       "Name: distance, dtype: int64"
      ]
     },
     "execution_count": 7,
     "metadata": {},
     "output_type": "execute_result"
    }
   ],
   "source": [
    "df[\"distance\"].value_counts()"
   ]
  },
  {
   "cell_type": "markdown",
   "id": "29cff4c3",
   "metadata": {},
   "source": [
    "The dataset contains both 10km and 3km runners. We will analyse the data of the 10km runners. (We first make a copy of the DataFrame to retain the full data.)"
   ]
  },
  {
   "cell_type": "code",
   "execution_count": 8,
   "id": "d3415d89",
   "metadata": {},
   "outputs": [],
   "source": [
    "df_all_distances = df.copy()"
   ]
  },
  {
   "cell_type": "code",
   "execution_count": 9,
   "id": "0b42fbf4",
   "metadata": {},
   "outputs": [],
   "source": [
    "df = df[df[\"distance\"].str.contains(\"10km\", na=False, regex=False)]"
   ]
  },
  {
   "cell_type": "code",
   "execution_count": 10,
   "id": "8b41f4e9",
   "metadata": {
    "scrolled": false
   },
   "outputs": [
    {
     "data": {
      "text/html": [
       "<div>\n",
       "<style scoped>\n",
       "    .dataframe tbody tr th:only-of-type {\n",
       "        vertical-align: middle;\n",
       "    }\n",
       "\n",
       "    .dataframe tbody tr th {\n",
       "        vertical-align: top;\n",
       "    }\n",
       "\n",
       "    .dataframe thead th {\n",
       "        text-align: right;\n",
       "    }\n",
       "</style>\n",
       "<table border=\"1\" class=\"dataframe\">\n",
       "  <thead>\n",
       "    <tr style=\"text-align: right;\">\n",
       "      <th></th>\n",
       "      <th>category_rank</th>\n",
       "      <th>event_rank</th>\n",
       "      <th>name</th>\n",
       "      <th>club</th>\n",
       "      <th>start</th>\n",
       "      <th>lap_1</th>\n",
       "      <th>lap_2</th>\n",
       "      <th>time</th>\n",
       "      <th>distance</th>\n",
       "      <th>event</th>\n",
       "      <th>age</th>\n",
       "      <th>gender</th>\n",
       "      <th>category</th>\n",
       "      <th>bib_number</th>\n",
       "    </tr>\n",
       "  </thead>\n",
       "  <tbody>\n",
       "    <tr>\n",
       "      <th>0</th>\n",
       "      <td>1</td>\n",
       "      <td>1</td>\n",
       "      <td>Malachy Kirwan</td>\n",
       "      <td>None</td>\n",
       "      <td>2021-04-04 07:16:17.700</td>\n",
       "      <td>1269.0</td>\n",
       "      <td>1315.0</td>\n",
       "      <td>2584.0</td>\n",
       "      <td>10km</td>\n",
       "      <td>Open</td>\n",
       "      <td>13+</td>\n",
       "      <td>Male</td>\n",
       "      <td>Open</td>\n",
       "      <td>316</td>\n",
       "    </tr>\n",
       "    <tr>\n",
       "      <th>1</th>\n",
       "      <td>2</td>\n",
       "      <td>2</td>\n",
       "      <td>William Petty</td>\n",
       "      <td>Coached</td>\n",
       "      <td>2021-04-04 07:16:18.700</td>\n",
       "      <td>1303.0</td>\n",
       "      <td>1320.0</td>\n",
       "      <td>2624.0</td>\n",
       "      <td>10km</td>\n",
       "      <td>Open</td>\n",
       "      <td>13+</td>\n",
       "      <td>Male</td>\n",
       "      <td>Open</td>\n",
       "      <td>267</td>\n",
       "    </tr>\n",
       "    <tr>\n",
       "      <th>2</th>\n",
       "      <td>3</td>\n",
       "      <td>4</td>\n",
       "      <td>Chris Timms</td>\n",
       "      <td>Dulwich Runners</td>\n",
       "      <td>2021-04-04 07:16:58.300</td>\n",
       "      <td>1335.0</td>\n",
       "      <td>1407.0</td>\n",
       "      <td>2742.0</td>\n",
       "      <td>10km</td>\n",
       "      <td>Open</td>\n",
       "      <td>13+</td>\n",
       "      <td>Male</td>\n",
       "      <td>Open</td>\n",
       "      <td>251</td>\n",
       "    </tr>\n",
       "    <tr>\n",
       "      <th>3</th>\n",
       "      <td>4</td>\n",
       "      <td>6</td>\n",
       "      <td>Benoit Besnier</td>\n",
       "      <td>COS Coaching</td>\n",
       "      <td>2021-04-04 07:16:17.800</td>\n",
       "      <td>1412.0</td>\n",
       "      <td>1442.0</td>\n",
       "      <td>2855.0</td>\n",
       "      <td>10km</td>\n",
       "      <td>Open</td>\n",
       "      <td>13+</td>\n",
       "      <td>Male</td>\n",
       "      <td>Open</td>\n",
       "      <td>320</td>\n",
       "    </tr>\n",
       "    <tr>\n",
       "      <th>4</th>\n",
       "      <td>5</td>\n",
       "      <td>7</td>\n",
       "      <td>Daniel Rose</td>\n",
       "      <td>Coached Fitness</td>\n",
       "      <td>2021-04-04 07:16:59.200</td>\n",
       "      <td>1375.0</td>\n",
       "      <td>1481.0</td>\n",
       "      <td>2856.0</td>\n",
       "      <td>10km</td>\n",
       "      <td>Open</td>\n",
       "      <td>13+</td>\n",
       "      <td>Male</td>\n",
       "      <td>Open</td>\n",
       "      <td>311</td>\n",
       "    </tr>\n",
       "  </tbody>\n",
       "</table>\n",
       "</div>"
      ],
      "text/plain": [
       "   category_rank  event_rank             name             club  \\\n",
       "0              1           1  Malachy Kirwan              None   \n",
       "1              2           2   William Petty           Coached   \n",
       "2              3           4     Chris Timms   Dulwich Runners   \n",
       "3              4           6  Benoit Besnier      COS Coaching   \n",
       "4              5           7     Daniel Rose   Coached Fitness   \n",
       "\n",
       "                     start   lap_1   lap_2    time distance   event   age  \\\n",
       "0  2021-04-04 07:16:17.700  1269.0  1315.0  2584.0    10km    Open    13+   \n",
       "1  2021-04-04 07:16:18.700  1303.0  1320.0  2624.0    10km    Open    13+   \n",
       "2  2021-04-04 07:16:58.300  1335.0  1407.0  2742.0    10km    Open    13+   \n",
       "3  2021-04-04 07:16:17.800  1412.0  1442.0  2855.0    10km    Open    13+   \n",
       "4  2021-04-04 07:16:59.200  1375.0  1481.0  2856.0    10km    Open    13+   \n",
       "\n",
       "  gender category bib_number  \n",
       "0   Male    Open         316  \n",
       "1   Male    Open         267  \n",
       "2   Male    Open         251  \n",
       "3   Male    Open         320  \n",
       "4   Male    Open         311  "
      ]
     },
     "execution_count": 10,
     "metadata": {},
     "output_type": "execute_result"
    }
   ],
   "source": [
    "df.head()"
   ]
  },
  {
   "cell_type": "code",
   "execution_count": 11,
   "id": "0a0f61ae",
   "metadata": {},
   "outputs": [
    {
     "data": {
      "text/plain": [
       "10km     114\n",
       "Name: distance, dtype: int64"
      ]
     },
     "execution_count": 11,
     "metadata": {},
     "output_type": "execute_result"
    }
   ],
   "source": [
    "df[\"distance\"].value_counts()"
   ]
  },
  {
   "cell_type": "markdown",
   "id": "e284499b",
   "metadata": {},
   "source": [
    "A new dataframe was created as a subset of the initial one. We can see that there were 114 10km runners. "
   ]
  },
  {
   "cell_type": "markdown",
   "id": "22093478",
   "metadata": {},
   "source": [
    "## Droppping superfluous columns \n",
    "\n",
    "We will not be using several of the columns for the analysis. (We first make a copy of the DataFrame to retain all columns for any future reference before dropping the columns.)"
   ]
  },
  {
   "cell_type": "code",
   "execution_count": 12,
   "id": "035bab38",
   "metadata": {},
   "outputs": [],
   "source": [
    "df_before_drop = df.copy()\n",
    "\n",
    "df = df.drop(columns=[\"category_rank\", \"event_rank\", \"start\", \"event\", \"category\", \"bib_number\"])"
   ]
  },
  {
   "cell_type": "code",
   "execution_count": 13,
   "id": "2e5ab345",
   "metadata": {},
   "outputs": [
    {
     "data": {
      "text/html": [
       "<div>\n",
       "<style scoped>\n",
       "    .dataframe tbody tr th:only-of-type {\n",
       "        vertical-align: middle;\n",
       "    }\n",
       "\n",
       "    .dataframe tbody tr th {\n",
       "        vertical-align: top;\n",
       "    }\n",
       "\n",
       "    .dataframe thead th {\n",
       "        text-align: right;\n",
       "    }\n",
       "</style>\n",
       "<table border=\"1\" class=\"dataframe\">\n",
       "  <thead>\n",
       "    <tr style=\"text-align: right;\">\n",
       "      <th></th>\n",
       "      <th>name</th>\n",
       "      <th>club</th>\n",
       "      <th>lap_1</th>\n",
       "      <th>lap_2</th>\n",
       "      <th>time</th>\n",
       "      <th>distance</th>\n",
       "      <th>age</th>\n",
       "      <th>gender</th>\n",
       "    </tr>\n",
       "  </thead>\n",
       "  <tbody>\n",
       "    <tr>\n",
       "      <th>0</th>\n",
       "      <td>Malachy Kirwan</td>\n",
       "      <td>None</td>\n",
       "      <td>1269.0</td>\n",
       "      <td>1315.0</td>\n",
       "      <td>2584.0</td>\n",
       "      <td>10km</td>\n",
       "      <td>13+</td>\n",
       "      <td>Male</td>\n",
       "    </tr>\n",
       "    <tr>\n",
       "      <th>1</th>\n",
       "      <td>William Petty</td>\n",
       "      <td>Coached</td>\n",
       "      <td>1303.0</td>\n",
       "      <td>1320.0</td>\n",
       "      <td>2624.0</td>\n",
       "      <td>10km</td>\n",
       "      <td>13+</td>\n",
       "      <td>Male</td>\n",
       "    </tr>\n",
       "    <tr>\n",
       "      <th>2</th>\n",
       "      <td>Chris Timms</td>\n",
       "      <td>Dulwich Runners</td>\n",
       "      <td>1335.0</td>\n",
       "      <td>1407.0</td>\n",
       "      <td>2742.0</td>\n",
       "      <td>10km</td>\n",
       "      <td>13+</td>\n",
       "      <td>Male</td>\n",
       "    </tr>\n",
       "    <tr>\n",
       "      <th>3</th>\n",
       "      <td>Benoit Besnier</td>\n",
       "      <td>COS Coaching</td>\n",
       "      <td>1412.0</td>\n",
       "      <td>1442.0</td>\n",
       "      <td>2855.0</td>\n",
       "      <td>10km</td>\n",
       "      <td>13+</td>\n",
       "      <td>Male</td>\n",
       "    </tr>\n",
       "    <tr>\n",
       "      <th>4</th>\n",
       "      <td>Daniel Rose</td>\n",
       "      <td>Coached Fitness</td>\n",
       "      <td>1375.0</td>\n",
       "      <td>1481.0</td>\n",
       "      <td>2856.0</td>\n",
       "      <td>10km</td>\n",
       "      <td>13+</td>\n",
       "      <td>Male</td>\n",
       "    </tr>\n",
       "  </tbody>\n",
       "</table>\n",
       "</div>"
      ],
      "text/plain": [
       "              name             club   lap_1   lap_2    time distance   age  \\\n",
       "0  Malachy Kirwan              None  1269.0  1315.0  2584.0    10km    13+   \n",
       "1   William Petty           Coached  1303.0  1320.0  2624.0    10km    13+   \n",
       "2     Chris Timms   Dulwich Runners  1335.0  1407.0  2742.0    10km    13+   \n",
       "3  Benoit Besnier      COS Coaching  1412.0  1442.0  2855.0    10km    13+   \n",
       "4     Daniel Rose   Coached Fitness  1375.0  1481.0  2856.0    10km    13+   \n",
       "\n",
       "  gender  \n",
       "0   Male  \n",
       "1   Male  \n",
       "2   Male  \n",
       "3   Male  \n",
       "4   Male  "
      ]
     },
     "execution_count": 13,
     "metadata": {},
     "output_type": "execute_result"
    }
   ],
   "source": [
    "df.head()"
   ]
  },
  {
   "cell_type": "markdown",
   "id": "b7ad4978",
   "metadata": {},
   "source": [
    "## What was the gender distribution like?"
   ]
  },
  {
   "cell_type": "code",
   "execution_count": 14,
   "id": "d33658a1",
   "metadata": {
    "scrolled": true
   },
   "outputs": [
    {
     "data": {
      "text/plain": [
       "Male      76\n",
       "Female    38\n",
       "Name: gender, dtype: int64"
      ]
     },
     "execution_count": 14,
     "metadata": {},
     "output_type": "execute_result"
    }
   ],
   "source": [
    "df[\"gender\"].value_counts()"
   ]
  },
  {
   "cell_type": "markdown",
   "id": "d7fea700",
   "metadata": {},
   "source": [
    "We will represent this data in a plot:"
   ]
  },
  {
   "cell_type": "code",
   "execution_count": 15,
   "id": "ee6091b0",
   "metadata": {
    "scrolled": false
   },
   "outputs": [
    {
     "data": {
      "image/png": "[encoded data removed]",
      "text/plain": [
       "<Figure size 432x432 with 1 Axes>"
      ]
     },
     "metadata": {
      "needs_background": "light"
     },
     "output_type": "display_data"
    }
   ],
   "source": [
    "df[\"gender\"].value_counts().plot(kind=\"bar\", \n",
    "                                 figsize=(6,6),\n",
    "                                 fontsize=14,\n",
    "                                 color=[\"cornflowerblue\", \"indianred\"])\n",
    "plt.title(\"Gender Distribution of 10km Runners\", fontsize=16)\n",
    "plt.xlabel(\"Gender of runners\", fontsize=14)\n",
    "plt.ylabel(\"Number of runners\", fontsize=14)\n",
    "plt.xticks(rotation=0);"
   ]
  },
  {
   "cell_type": "markdown",
   "id": "3f8fb5db",
   "metadata": {},
   "source": [
    "Here, we can see that the ratio of males to females was 2:1, meaning only a third of runners were female."
   ]
  },
  {
   "cell_type": "markdown",
   "id": "b9382018",
   "metadata": {},
   "source": [
    "## How were the runners' timings distributed, visualised by gender?\n",
    "\n",
    "To plot this, we would want the y-axis to show the number of runners, and the x-axis to show the timing in hours and minutes. \n",
    "\n",
    "There does not seem to be a direct way for the duration to appear on the x-axis as hours and minutes, which is more readable, instead of showing up as thousands of seconds. This problem may have been avoided if we were working with normal datetime objects. However, we want to simply work with the durations between time points, rather than time points. Hence, we use helper functions to format the data.\n",
    "\n",
    "We will also want to plot the median timing for each gender. The median is chosen as it is less sensitive to outliers. "
   ]
  },
  {
   "cell_type": "code",
   "execution_count": 16,
   "id": "284a4872",
   "metadata": {},
   "outputs": [],
   "source": [
    "def time_tick_formatter(x, pos):\n",
    "    hours = int(x//3600)\n",
    "    minutes = int((x%3600)//60)\n",
    "    return \"{:d}h:{:02d}m\".format(hours, minutes)"
   ]
  },
  {
   "cell_type": "code",
   "execution_count": 17,
   "id": "997a3435",
   "metadata": {},
   "outputs": [],
   "source": [
    "def time_formatter(x):\n",
    "    hours = int(x//3600)\n",
    "    minutes = int((x%3600)//60)\n",
    "    return \"{:d}h:{:02d}m\".format(hours, minutes)"
   ]
  },
  {
   "cell_type": "code",
   "execution_count": 18,
   "id": "576a3440",
   "metadata": {
    "scrolled": false
   },
   "outputs": [
    {
     "data": {
      "image/png": "[encoded data removed]",
      "text/plain": [
       "<Figure size 864x360 with 1 Axes>"
      ]
     },
     "metadata": {
      "needs_background": "light"
     },
     "output_type": "display_data"
    }
   ],
   "source": [
    "males = df.loc[df[\"gender\"] == \"Male\", \"time\"]\n",
    "females = df.loc[df[\"gender\"] == \"Female\", \"time\"]\n",
    "\n",
    "kwargs = dict(alpha=0.5, bins=18)\n",
    "plt.hist(males, **kwargs, color=\"royalblue\", label=\"Male\")\n",
    "plt.hist(females, **kwargs, color=\"r\", label=\"Female\")\n",
    "\n",
    "plt.gcf().set_size_inches(12, 5)\n",
    "plt.rcParams[\"font.size\"] = 14\n",
    "plt.tick_params(labelsize=14)\n",
    "\n",
    "min_ylim, max_ylim = plt.ylim()\n",
    "plt.axvline(males.median(), color=\"k\", linestyle=\"dashed\", linewidth=1)\n",
    "plt.text(males.median()*1.01, max_ylim*0.88, \"Median: Male \\n({})\".format(time_formatter(males.median())))\n",
    "plt.axvline(females.median(), color=\"k\", linestyle=\"dashed\", linewidth=1)\n",
    "plt.text(females.median()*1.01, max_ylim*0.88, \"Median: Female \\n({})\".format(time_formatter(females.median())))\n",
    "\n",
    "plt.title(\"Frequency Distribution of 10km Runners' Timings\", fontsize=17)\n",
    "plt.xlabel(\"Timing\", fontsize=14)\n",
    "plt.ylabel(\"No. of Runners\", fontsize=14)\n",
    "plt.gca().xaxis.set_major_formatter(ticker.FuncFormatter(time_tick_formatter))\n",
    "plt.gca().xaxis.set_major_locator(ticker.MultipleLocator(base=900))\n",
    "plt.legend();"
   ]
  },
  {
   "cell_type": "markdown",
   "id": "045bbbde",
   "metadata": {},
   "source": [
    "The plot reveals a visble difference between the male and female groups."
   ]
  },
  {
   "cell_type": "markdown",
   "id": "346777e3",
   "metadata": {},
   "source": [
    "## How can we compare an individual's timing with the rest of the participants?\n",
    "\n",
    "One of the valuable insights we can gain from analysing such data is how we compare against the rest of the participants. Hence, we will see how we can show the timing of one individual on the previous plot for comparison purposes. In this case, we will be using one of the individuals, Murphy, as an example."
   ]
  },
  {
   "cell_type": "code",
   "execution_count": 19,
   "id": "c30cf645",
   "metadata": {},
   "outputs": [
    {
     "data": {
      "text/plain": [
       "1"
      ]
     },
     "execution_count": 19,
     "metadata": {},
     "output_type": "execute_result"
    }
   ],
   "source": [
    "df[\"time\"][df[\"name\"].str.contains(\"Murphy\", na=False, regex=False)].count()"
   ]
  },
  {
   "cell_type": "markdown",
   "id": "d2dac747",
   "metadata": {},
   "source": [
    "The timing of one individual is fetched by this line of code."
   ]
  },
  {
   "cell_type": "code",
   "execution_count": 20,
   "id": "486d5f97",
   "metadata": {
    "scrolled": false
   },
   "outputs": [
    {
     "data": {
      "image/png": "[encoded data removed]",
      "text/plain": [
       "<Figure size 864x360 with 1 Axes>"
      ]
     },
     "metadata": {
      "needs_background": "light"
     },
     "output_type": "display_data"
    }
   ],
   "source": [
    "males = df.loc[df[\"gender\"] == \"Male\", \"time\"]\n",
    "females = df.loc[df[\"gender\"] == \"Female\", \"time\"]\n",
    "individual = df.loc[df[\"name\"].str.contains(\"Murphy\", na=False, regex=False)]\n",
    "\n",
    "kwargs = dict(alpha=0.5, bins=18)\n",
    "plt.hist(males, **kwargs, color=\"royalblue\", label=\"Male\")\n",
    "plt.hist(females, **kwargs, color=\"r\", label=\"Female\")\n",
    "\n",
    "plt.gcf().set_size_inches(12, 5)\n",
    "plt.rcParams[\"font.size\"] = 14\n",
    "plt.tick_params(labelsize=14)\n",
    "\n",
    "min_ylim, max_ylim = plt.ylim()\n",
    "plt.axvline(males.median(), color=\"k\", linestyle=\"dashed\", linewidth=1)\n",
    "plt.text(males.median()*1.01, max_ylim*0.88, \"Median: Male \\n({})\".format(time_formatter(males.median())))\n",
    "plt.axvline(females.median(), color=\"k\", linestyle=\"dashed\", linewidth=1)\n",
    "plt.text(females.median()*1.01, max_ylim*0.88, \"Median: Female \\n({})\".format(time_formatter(females.median())))\n",
    "plt.vlines(individual[\"time\"], ymin=0, ymax=8, color=\"k\", linestyle=\"solid\", linewidth=1.5)\n",
    "plt.text(individual[\"time\"]-150, 8, \"Murphy ({})\".format(time_formatter(individual[\"time\"])), bbox={'facecolor': 'white', 'pad': 3})\n",
    "\n",
    "plt.title(\"Frequency Distribution of 10km Runners' Timings\", fontsize=17)\n",
    "plt.xlabel(\"Timing\", fontsize=14)\n",
    "plt.ylabel(\"No. of Runners\", fontsize=14)\n",
    "plt.gca().xaxis.set_major_formatter(ticker.FuncFormatter(time_tick_formatter))\n",
    "plt.gca().xaxis.set_major_locator(ticker.MultipleLocator(base=900))\n",
    "plt.legend();"
   ]
  },
  {
   "cell_type": "markdown",
   "id": "b5873308",
   "metadata": {},
   "source": [
    "Here, we can see that Murphy took longer to run 10km than the median timing for males. \n",
    "\n",
    "## How can we see which quartile of the gender group the individual belongs to?\n",
    "\n",
    "What if we wanted more information, though, such as the exact quartile he was in amongst the males?\n",
    "\n",
    "We can use boxplots, but in this case we will try a violin plot with a swarm plot instead. \n",
    "\n",
    "First, we will plot the general picture between males and females just to see:"
   ]
  },
  {
   "cell_type": "code",
   "execution_count": 21,
   "id": "c2952483",
   "metadata": {},
   "outputs": [
    {
     "data": {
      "image/png": "[encoded data removed]",
      "text/plain": [
       "<Figure size 576x576 with 1 Axes>"
      ]
     },
     "metadata": {},
     "output_type": "display_data"
    }
   ],
   "source": [
    "plt.figure(figsize=(8, 8), facecolor=\"w\", edgecolor=\"k\")\n",
    "sns.violinplot(x=\"gender\", y=\"time\", data=df, inner=\"quartile\", palette=\"pastel\")\n",
    "sns.swarmplot(x=\"gender\", y=\"time\", data=df, color=\"indigo\")\n",
    "plt.xticks(fontsize=14)\n",
    "plt.yticks(fontsize=14)\n",
    "plt.xlabel(\"Gender\", fontsize=16)\n",
    "plt.ylabel(\"Timing\", fontsize=16)\n",
    "plt.title(\"Distribution of 10km Runners' Timings by Gender\", fontsize=18)\n",
    "plt.gca().yaxis.set_major_formatter(ticker.FuncFormatter(time_tick_formatter))\n",
    "plt.gca().yaxis.set_major_locator(ticker.MultipleLocator(base=900));"
   ]
  },
  {
   "cell_type": "markdown",
   "id": "1117b55f",
   "metadata": {},
   "source": [
    "We see that this is another way to visually communicate the distribution as distinct data points. It can be seen that there is a larger range for the female group.\n",
    "\n",
    "Next, we will add Murphy into the plot for males:"
   ]
  },
  {
   "cell_type": "code",
   "execution_count": 22,
   "id": "c698f704",
   "metadata": {},
   "outputs": [
    {
     "data": {
      "image/png": "[encoded data removed]",
      "text/plain": [
       "<Figure size 360x576 with 1 Axes>"
      ]
     },
     "metadata": {},
     "output_type": "display_data"
    }
   ],
   "source": [
    "plt.figure(figsize=(5, 8), facecolor=\"w\", edgecolor=\"k\")\n",
    "sns.violinplot(data=males, inner=\"quartile\", palette=\"pastel\")\n",
    "sns.swarmplot(data=males, color=\"indigo\", size=7)\n",
    "sns.swarmplot(y=\"time\", data=individual, color=\"r\", size=7)\n",
    "plt.xticks(fontsize=14)\n",
    "plt.yticks(fontsize=14)\n",
    "plt.xlabel(\"Males\", fontsize=16)\n",
    "plt.ylabel(\"Timing\", fontsize=16)\n",
    "plt.title(\"Distribution of 10km Male Runners' Timings\", fontsize=18)\n",
    "plt.text(0.06, 4100, \"Murphy (in red)\", bbox={'facecolor': 'white', 'pad': 3})\n",
    "plt.gca().yaxis.set_major_formatter(ticker.FuncFormatter(time_tick_formatter))\n",
    "plt.gca().yaxis.set_major_locator(ticker.MultipleLocator(base=900));"
   ]
  },
  {
   "cell_type": "markdown",
   "id": "4babf53d",
   "metadata": {},
   "source": [
    "Hence, we can see that Murphy was just slightly within the last 25% of male 10km runners."
   ]
  },
  {
   "cell_type": "markdown",
   "id": "f73ee83d",
   "metadata": {},
   "source": [
    "## What was the age distribution like? Was the age distribution of male and female runners similar?\n",
    "\n",
    "First, we create DataFrames for male and female runners respectively."
   ]
  },
  {
   "cell_type": "code",
   "execution_count": 23,
   "id": "7aa1f871",
   "metadata": {},
   "outputs": [],
   "source": [
    "male_runners = df.loc[df[\"gender\"] == \"Male\"]\n",
    "female_runners = df.loc[df[\"gender\"] == \"Female\"]"
   ]
  },
  {
   "cell_type": "markdown",
   "id": "6f4f92b4",
   "metadata": {},
   "source": [
    "Then, we run some checks to see if we are getting what we want, and plot the graph:"
   ]
  },
  {
   "cell_type": "code",
   "execution_count": 24,
   "id": "3514e83c",
   "metadata": {
    "scrolled": true
   },
   "outputs": [
    {
     "data": {
      "text/html": [
       "<div>\n",
       "<style scoped>\n",
       "    .dataframe tbody tr th:only-of-type {\n",
       "        vertical-align: middle;\n",
       "    }\n",
       "\n",
       "    .dataframe tbody tr th {\n",
       "        vertical-align: top;\n",
       "    }\n",
       "\n",
       "    .dataframe thead th {\n",
       "        text-align: right;\n",
       "    }\n",
       "</style>\n",
       "<table border=\"1\" class=\"dataframe\">\n",
       "  <thead>\n",
       "    <tr style=\"text-align: right;\">\n",
       "      <th></th>\n",
       "      <th>name</th>\n",
       "      <th>club</th>\n",
       "      <th>lap_1</th>\n",
       "      <th>lap_2</th>\n",
       "      <th>time</th>\n",
       "      <th>distance</th>\n",
       "      <th>age</th>\n",
       "      <th>gender</th>\n",
       "    </tr>\n",
       "  </thead>\n",
       "  <tbody>\n",
       "    <tr>\n",
       "      <th>0</th>\n",
       "      <td>Malachy Kirwan</td>\n",
       "      <td>None</td>\n",
       "      <td>1269.0</td>\n",
       "      <td>1315.0</td>\n",
       "      <td>2584.0</td>\n",
       "      <td>10km</td>\n",
       "      <td>13+</td>\n",
       "      <td>Male</td>\n",
       "    </tr>\n",
       "    <tr>\n",
       "      <th>1</th>\n",
       "      <td>William Petty</td>\n",
       "      <td>Coached</td>\n",
       "      <td>1303.0</td>\n",
       "      <td>1320.0</td>\n",
       "      <td>2624.0</td>\n",
       "      <td>10km</td>\n",
       "      <td>13+</td>\n",
       "      <td>Male</td>\n",
       "    </tr>\n",
       "    <tr>\n",
       "      <th>2</th>\n",
       "      <td>Chris Timms</td>\n",
       "      <td>Dulwich Runners</td>\n",
       "      <td>1335.0</td>\n",
       "      <td>1407.0</td>\n",
       "      <td>2742.0</td>\n",
       "      <td>10km</td>\n",
       "      <td>13+</td>\n",
       "      <td>Male</td>\n",
       "    </tr>\n",
       "    <tr>\n",
       "      <th>3</th>\n",
       "      <td>Benoit Besnier</td>\n",
       "      <td>COS Coaching</td>\n",
       "      <td>1412.0</td>\n",
       "      <td>1442.0</td>\n",
       "      <td>2855.0</td>\n",
       "      <td>10km</td>\n",
       "      <td>13+</td>\n",
       "      <td>Male</td>\n",
       "    </tr>\n",
       "    <tr>\n",
       "      <th>4</th>\n",
       "      <td>Daniel Rose</td>\n",
       "      <td>Coached Fitness</td>\n",
       "      <td>1375.0</td>\n",
       "      <td>1481.0</td>\n",
       "      <td>2856.0</td>\n",
       "      <td>10km</td>\n",
       "      <td>13+</td>\n",
       "      <td>Male</td>\n",
       "    </tr>\n",
       "  </tbody>\n",
       "</table>\n",
       "</div>"
      ],
      "text/plain": [
       "              name             club   lap_1   lap_2    time distance   age  \\\n",
       "0  Malachy Kirwan              None  1269.0  1315.0  2584.0    10km    13+   \n",
       "1   William Petty           Coached  1303.0  1320.0  2624.0    10km    13+   \n",
       "2     Chris Timms   Dulwich Runners  1335.0  1407.0  2742.0    10km    13+   \n",
       "3  Benoit Besnier      COS Coaching  1412.0  1442.0  2855.0    10km    13+   \n",
       "4     Daniel Rose   Coached Fitness  1375.0  1481.0  2856.0    10km    13+   \n",
       "\n",
       "  gender  \n",
       "0   Male  \n",
       "1   Male  \n",
       "2   Male  \n",
       "3   Male  \n",
       "4   Male  "
      ]
     },
     "execution_count": 24,
     "metadata": {},
     "output_type": "execute_result"
    }
   ],
   "source": [
    "male_runners.head()"
   ]
  },
  {
   "cell_type": "code",
   "execution_count": 25,
   "id": "e3ed16c4",
   "metadata": {},
   "outputs": [
    {
     "data": {
      "text/html": [
       "<div>\n",
       "<style scoped>\n",
       "    .dataframe tbody tr th:only-of-type {\n",
       "        vertical-align: middle;\n",
       "    }\n",
       "\n",
       "    .dataframe tbody tr th {\n",
       "        vertical-align: top;\n",
       "    }\n",
       "\n",
       "    .dataframe thead th {\n",
       "        text-align: right;\n",
       "    }\n",
       "</style>\n",
       "<table border=\"1\" class=\"dataframe\">\n",
       "  <thead>\n",
       "    <tr style=\"text-align: right;\">\n",
       "      <th></th>\n",
       "      <th>name</th>\n",
       "      <th>club</th>\n",
       "      <th>lap_1</th>\n",
       "      <th>lap_2</th>\n",
       "      <th>time</th>\n",
       "      <th>distance</th>\n",
       "      <th>age</th>\n",
       "      <th>gender</th>\n",
       "    </tr>\n",
       "  </thead>\n",
       "  <tbody>\n",
       "    <tr>\n",
       "      <th>52</th>\n",
       "      <td>Samantha Collings</td>\n",
       "      <td>None</td>\n",
       "      <td>1961.0</td>\n",
       "      <td>1929.0</td>\n",
       "      <td>3890.0</td>\n",
       "      <td>10km</td>\n",
       "      <td>13+</td>\n",
       "      <td>Female</td>\n",
       "    </tr>\n",
       "    <tr>\n",
       "      <th>53</th>\n",
       "      <td>Sarah Boyle</td>\n",
       "      <td>None</td>\n",
       "      <td>2021.0</td>\n",
       "      <td>1899.0</td>\n",
       "      <td>3920.0</td>\n",
       "      <td>10km</td>\n",
       "      <td>13+</td>\n",
       "      <td>Female</td>\n",
       "    </tr>\n",
       "    <tr>\n",
       "      <th>54</th>\n",
       "      <td>Daphne Picq</td>\n",
       "      <td>COS Coaching</td>\n",
       "      <td>2011.0</td>\n",
       "      <td>2238.0</td>\n",
       "      <td>4249.0</td>\n",
       "      <td>10km</td>\n",
       "      <td>13+</td>\n",
       "      <td>Female</td>\n",
       "    </tr>\n",
       "    <tr>\n",
       "      <th>55</th>\n",
       "      <td>Cerys Shanley</td>\n",
       "      <td>Dulwich Runners</td>\n",
       "      <td>2077.0</td>\n",
       "      <td>2250.0</td>\n",
       "      <td>4327.0</td>\n",
       "      <td>10km</td>\n",
       "      <td>13+</td>\n",
       "      <td>Female</td>\n",
       "    </tr>\n",
       "    <tr>\n",
       "      <th>56</th>\n",
       "      <td>Ida Samsudin</td>\n",
       "      <td>None</td>\n",
       "      <td>2042.0</td>\n",
       "      <td>2370.0</td>\n",
       "      <td>4413.0</td>\n",
       "      <td>10km</td>\n",
       "      <td>13+</td>\n",
       "      <td>Female</td>\n",
       "    </tr>\n",
       "  </tbody>\n",
       "</table>\n",
       "</div>"
      ],
      "text/plain": [
       "                  name             club   lap_1   lap_2    time distance  \\\n",
       "52  Samantha Collings              None  1961.0  1929.0  3890.0    10km    \n",
       "53        Sarah Boyle              None  2021.0  1899.0  3920.0    10km    \n",
       "54        Daphne Picq      COS Coaching  2011.0  2238.0  4249.0    10km    \n",
       "55      Cerys Shanley   Dulwich Runners  2077.0  2250.0  4327.0    10km    \n",
       "56       Ida Samsudin              None  2042.0  2370.0  4413.0    10km    \n",
       "\n",
       "     age  gender  \n",
       "52   13+  Female  \n",
       "53   13+  Female  \n",
       "54   13+  Female  \n",
       "55   13+  Female  \n",
       "56   13+  Female  "
      ]
     },
     "execution_count": 25,
     "metadata": {},
     "output_type": "execute_result"
    }
   ],
   "source": [
    "female_runners.head()"
   ]
  },
  {
   "cell_type": "code",
   "execution_count": 26,
   "id": "360acb84",
   "metadata": {
    "scrolled": true
   },
   "outputs": [
    {
     "data": {
      "text/plain": [
       " 13+    76\n",
       " 40+    38\n",
       "Name: age, dtype: int64"
      ]
     },
     "execution_count": 26,
     "metadata": {},
     "output_type": "execute_result"
    }
   ],
   "source": [
    "df[\"age\"].value_counts()"
   ]
  },
  {
   "cell_type": "code",
   "execution_count": 27,
   "id": "56c81cd6",
   "metadata": {},
   "outputs": [
    {
     "data": {
      "text/plain": [
       " 13+    52\n",
       " 40+    24\n",
       "Name: age, dtype: int64"
      ]
     },
     "execution_count": 27,
     "metadata": {},
     "output_type": "execute_result"
    }
   ],
   "source": [
    "male_runners[\"age\"].value_counts()"
   ]
  },
  {
   "cell_type": "code",
   "execution_count": 28,
   "id": "81379f04",
   "metadata": {},
   "outputs": [
    {
     "data": {
      "text/plain": [
       " 13+    24\n",
       " 40+    14\n",
       "Name: age, dtype: int64"
      ]
     },
     "execution_count": 28,
     "metadata": {},
     "output_type": "execute_result"
    }
   ],
   "source": [
    "female_runners[\"age\"].value_counts()"
   ]
  },
  {
   "cell_type": "code",
   "execution_count": 29,
   "id": "78a85dbd",
   "metadata": {
    "scrolled": true
   },
   "outputs": [
    {
     "data": {
      "image/png": "[encoded data removed]",
      "text/plain": [
       "<Figure size 864x360 with 3 Axes>"
      ]
     },
     "metadata": {
      "needs_background": "light"
     },
     "output_type": "display_data"
    }
   ],
   "source": [
    "fig, ax = plt.subplots(1, 3)\n",
    "\n",
    "\n",
    "plt.subplot(1, 3, 1)\n",
    "df[\"age\"].value_counts().plot(kind=\"bar\", \n",
    "                                 figsize=(7, 4.5),\n",
    "                                 fontsize=14,\n",
    "                                 color=[\"cornflowerblue\", \"indianred\"])\n",
    "plt.title(\"Age Distribution of \\nall 10km Runners\", fontsize=16)\n",
    "plt.xlabel(\"Age\", fontsize=14)\n",
    "plt.ylabel(\"Number of runners\", fontsize=14)\n",
    "plt.xticks(rotation=0);\n",
    "\n",
    "plt.subplot(1, 3, 2)\n",
    "male_runners[\"age\"].value_counts().plot(kind=\"bar\", \n",
    "                                 figsize=(7, 4.5),\n",
    "                                 fontsize=14,\n",
    "                                 color=[\"cornflowerblue\", \"indianred\"])\n",
    "plt.title(\"Age Distribution of \\nMale 10km Runners\", fontsize=16)\n",
    "plt.xlabel(\"Age\", fontsize=14)\n",
    "plt.ylabel(\"Number of runners\", fontsize=14)\n",
    "plt.xticks(rotation=0);\n",
    "\n",
    "plt.subplot(1, 3, 3)\n",
    "female_runners[\"age\"].value_counts().plot(kind=\"bar\", \n",
    "                                 figsize=(7, 4.5),\n",
    "                                 fontsize=14,\n",
    "                                 color=[\"cornflowerblue\", \"indianred\"])\n",
    "plt.title(\"Age Distribution of \\nFemale 10km Runners\", fontsize=16)\n",
    "plt.xlabel(\"Age\", fontsize=14)\n",
    "plt.ylabel(\"Number of runners\", fontsize=14)\n",
    "plt.xticks(rotation=0);\n",
    "\n",
    "fig.tight_layout()\n",
    "plt.gcf().set_size_inches(12, 5)"
   ]
  },
  {
   "cell_type": "markdown",
   "id": "87e6479f",
   "metadata": {},
   "source": [
    "It seems that the ratio of runners aged 13+ to runners aged 40+ is similar to that of males to females. The proportion of runners aged 40+ was slightly higher in the female group, based on the normalised \"13+\" bars between the plots. \n",
    "\n",
    "For the avoidance of ambiguity, runners aged 13+ are of age 13-39, and runners aged 40+ are of age 40 and above."
   ]
  },
  {
   "cell_type": "markdown",
   "id": "b629c84c",
   "metadata": {},
   "source": [
    "## Did the younger runners have better timings? \n",
    "\n",
    "First, we create a DataFrame to specify the older group, and then we plot them on the violin and swarm plot."
   ]
  },
  {
   "cell_type": "code",
   "execution_count": 30,
   "id": "4e8ec1cb",
   "metadata": {},
   "outputs": [],
   "source": [
    "older = df[df[\"age\"].str.contains(\"40+\", na=False, regex=False)]"
   ]
  },
  {
   "cell_type": "code",
   "execution_count": 31,
   "id": "836a7c96",
   "metadata": {
    "scrolled": true
   },
   "outputs": [
    {
     "data": {
      "text/html": [
       "<div>\n",
       "<style scoped>\n",
       "    .dataframe tbody tr th:only-of-type {\n",
       "        vertical-align: middle;\n",
       "    }\n",
       "\n",
       "    .dataframe tbody tr th {\n",
       "        vertical-align: top;\n",
       "    }\n",
       "\n",
       "    .dataframe thead th {\n",
       "        text-align: right;\n",
       "    }\n",
       "</style>\n",
       "<table border=\"1\" class=\"dataframe\">\n",
       "  <thead>\n",
       "    <tr style=\"text-align: right;\">\n",
       "      <th></th>\n",
       "      <th>name</th>\n",
       "      <th>club</th>\n",
       "      <th>lap_1</th>\n",
       "      <th>lap_2</th>\n",
       "      <th>time</th>\n",
       "      <th>distance</th>\n",
       "      <th>age</th>\n",
       "      <th>gender</th>\n",
       "    </tr>\n",
       "  </thead>\n",
       "  <tbody>\n",
       "    <tr>\n",
       "      <th>76</th>\n",
       "      <td>Dan Smith</td>\n",
       "      <td>matadorRACING</td>\n",
       "      <td>1440.0</td>\n",
       "      <td>1438.0</td>\n",
       "      <td>2879.0</td>\n",
       "      <td>10km</td>\n",
       "      <td>40+</td>\n",
       "      <td>Male</td>\n",
       "    </tr>\n",
       "    <tr>\n",
       "      <th>77</th>\n",
       "      <td>Ken Forbes</td>\n",
       "      <td>None</td>\n",
       "      <td>1406.0</td>\n",
       "      <td>1482.0</td>\n",
       "      <td>2889.0</td>\n",
       "      <td>10km</td>\n",
       "      <td>40+</td>\n",
       "      <td>Male</td>\n",
       "    </tr>\n",
       "    <tr>\n",
       "      <th>78</th>\n",
       "      <td>Tom Chamberlain</td>\n",
       "      <td>Trail &amp; Error</td>\n",
       "      <td>1523.0</td>\n",
       "      <td>1643.0</td>\n",
       "      <td>3167.0</td>\n",
       "      <td>10km</td>\n",
       "      <td>40+</td>\n",
       "      <td>Male</td>\n",
       "    </tr>\n",
       "    <tr>\n",
       "      <th>79</th>\n",
       "      <td>Tony Seakins</td>\n",
       "      <td>Shufflers</td>\n",
       "      <td>1567.0</td>\n",
       "      <td>1624.0</td>\n",
       "      <td>3191.0</td>\n",
       "      <td>10km</td>\n",
       "      <td>40+</td>\n",
       "      <td>Male</td>\n",
       "    </tr>\n",
       "    <tr>\n",
       "      <th>80</th>\n",
       "      <td>Careca Yong Loi Huat</td>\n",
       "      <td>Nil</td>\n",
       "      <td>1617.0</td>\n",
       "      <td>1662.0</td>\n",
       "      <td>3280.0</td>\n",
       "      <td>10km</td>\n",
       "      <td>40+</td>\n",
       "      <td>Male</td>\n",
       "    </tr>\n",
       "  </tbody>\n",
       "</table>\n",
       "</div>"
      ],
      "text/plain": [
       "                    name           club   lap_1   lap_2    time distance  \\\n",
       "76            Dan Smith   matadorRACING  1440.0  1438.0  2879.0    10km    \n",
       "77           Ken Forbes            None  1406.0  1482.0  2889.0    10km    \n",
       "78      Tom Chamberlain   Trail & Error  1523.0  1643.0  3167.0    10km    \n",
       "79         Tony Seakins       Shufflers  1567.0  1624.0  3191.0    10km    \n",
       "80  Careca Yong Loi Huat            Nil  1617.0  1662.0  3280.0    10km    \n",
       "\n",
       "     age gender  \n",
       "76   40+   Male  \n",
       "77   40+   Male  \n",
       "78   40+   Male  \n",
       "79   40+   Male  \n",
       "80   40+   Male  "
      ]
     },
     "execution_count": 31,
     "metadata": {},
     "output_type": "execute_result"
    }
   ],
   "source": [
    "older.head()"
   ]
  },
  {
   "cell_type": "code",
   "execution_count": 32,
   "id": "b2833b13",
   "metadata": {},
   "outputs": [
    {
     "data": {
      "image/png": "[encoded data removed]",
      "text/plain": [
       "<Figure size 576x576 with 1 Axes>"
      ]
     },
     "metadata": {},
     "output_type": "display_data"
    }
   ],
   "source": [
    "plt.figure(figsize=(8, 8), facecolor=\"w\", edgecolor=\"k\")\n",
    "sns.violinplot(x=\"gender\", y=\"time\", data=df, inner=\"quartile\", palette=\"pastel\")\n",
    "sns.swarmplot(x=\"gender\", y=\"time\", data=df, color=\"indigo\")\n",
    "sns.swarmplot(x=\"gender\", y=\"time\", data=older, color=\"r\")\n",
    "plt.xticks(fontsize=14)\n",
    "plt.yticks(fontsize=14)\n",
    "plt.xlabel(\"Gender\", fontsize=16)\n",
    "plt.ylabel(\"Timing\", fontsize=16)\n",
    "plt.title(\"Distribution of 10km Runners' Timings by Gender and Age\", fontsize=18)\n",
    "plt.text(-0.35, 7500, \"Runners aged \\n40+ in red \", bbox={'facecolor': 'white', 'pad': 3})\n",
    "plt.gca().yaxis.set_major_formatter(ticker.FuncFormatter(time_tick_formatter))\n",
    "plt.gca().yaxis.set_major_locator(ticker.MultipleLocator(base=900))"
   ]
  },
  {
   "cell_type": "markdown",
   "id": "b02ee88c",
   "metadata": {},
   "source": [
    "At first glance, the timings of the runners 40 and above (in red) are spread out throughout the groups. \n",
    "\n",
    "Upon closer inspection, for the males, the fastest few runners were younger. The runner who took the longest belonged to the older group. \n",
    "\n",
    "In comparison, for the females, the older runners are spread out throughout the whole range of female runners. In fact, the fastest runner for the females was from the older group (and also from a club, if we refer to one of the previous analyses). There was a runner aged 40 or above at the tail end of the female group, but there were 4 other runners there who were below 40. \n",
    "\n",
    "We can also get a quantitative metric by calculating the median. We will create DataFrames for subsets of the data."
   ]
  },
  {
   "cell_type": "code",
   "execution_count": 33,
   "id": "1241e040",
   "metadata": {},
   "outputs": [],
   "source": [
    "males_13 = male_runners[male_runners[\"age\"].str.contains(\"13+\", na=False, regex=False)]\n",
    "males_40 = male_runners[male_runners[\"age\"].str.contains(\"40+\", na=False, regex=False)]\n",
    "females_13 = female_runners[female_runners[\"age\"].str.contains(\"13+\", na=False, regex=False)]\n",
    "females_40 = female_runners[female_runners[\"age\"].str.contains(\"40+\", na=False, regex=False)]"
   ]
  },
  {
   "cell_type": "markdown",
   "id": "a7424259",
   "metadata": {},
   "source": [
    "## For males:"
   ]
  },
  {
   "cell_type": "markdown",
   "id": "f52e63dd",
   "metadata": {},
   "source": [
    "**Median running time for male runners aged 13+:**"
   ]
  },
  {
   "cell_type": "code",
   "execution_count": 34,
   "id": "a3405a41",
   "metadata": {},
   "outputs": [
    {
     "data": {
      "text/plain": [
       "'0h:56m'"
      ]
     },
     "execution_count": 34,
     "metadata": {},
     "output_type": "execute_result"
    }
   ],
   "source": [
    "time_formatter(males_13[\"time\"].median())"
   ]
  },
  {
   "cell_type": "markdown",
   "id": "bdfbeb72",
   "metadata": {},
   "source": [
    "**Median running time for male runners aged 40+:**"
   ]
  },
  {
   "cell_type": "code",
   "execution_count": 35,
   "id": "d3adde53",
   "metadata": {},
   "outputs": [
    {
     "data": {
      "text/plain": [
       "'1h:02m'"
      ]
     },
     "execution_count": 35,
     "metadata": {},
     "output_type": "execute_result"
    }
   ],
   "source": [
    "time_formatter(males_40[\"time\"].median())"
   ]
  },
  {
   "cell_type": "markdown",
   "id": "80099fdb",
   "metadata": {},
   "source": [
    "## For females:"
   ]
  },
  {
   "cell_type": "markdown",
   "id": "f1d84610",
   "metadata": {},
   "source": [
    "**Median running time for female runners aged 13+:**"
   ]
  },
  {
   "cell_type": "code",
   "execution_count": 36,
   "id": "7f58d96c",
   "metadata": {},
   "outputs": [
    {
     "data": {
      "text/plain": [
       "'1h:13m'"
      ]
     },
     "execution_count": 36,
     "metadata": {},
     "output_type": "execute_result"
    }
   ],
   "source": [
    "time_formatter(females_13[\"time\"].median())"
   ]
  },
  {
   "cell_type": "markdown",
   "id": "c09c67cb",
   "metadata": {},
   "source": [
    "**Median running time for female runners aged 40+:**"
   ]
  },
  {
   "cell_type": "code",
   "execution_count": 37,
   "id": "7cc8b58b",
   "metadata": {
    "scrolled": true
   },
   "outputs": [
    {
     "data": {
      "text/plain": [
       "'1h:23m'"
      ]
     },
     "execution_count": 37,
     "metadata": {},
     "output_type": "execute_result"
    }
   ],
   "source": [
    "time_formatter(females_40[\"time\"].median())"
   ]
  },
  {
   "cell_type": "markdown",
   "id": "b210ef88",
   "metadata": {},
   "source": [
    "Here, we can see that the median timings for the runners below 40 were indeed less than those 40 and above. In the analysis with the swarm plot, we were able to get some information from the tail ends of the data (such as the first and last few in place), but it seems that the median value did not reveal these nuances. For example, the fastest runner for the females was actually 40 or above, and the slowest were also below 40, despite the respective median hinting otherwise. This is because the swarm plot is able to show individual data points, and the median is not very sensitive to outliers at the far ranges of the data. "
   ]
  },
  {
   "cell_type": "markdown",
   "id": "a4da2eea",
   "metadata": {},
   "source": [
    "## What was the proportion of runners in clubs?\n",
    "\n",
    "Firstly, let us look at how the runners were distributed:"
   ]
  },
  {
   "cell_type": "code",
   "execution_count": 38,
   "id": "2b017d8a",
   "metadata": {
    "scrolled": false
   },
   "outputs": [
    {
     "data": {
      "text/plain": [
       "None                          74\n",
       "Dulwich Runners                8\n",
       "COS Coaching                   3\n",
       "Shufflers                      3\n",
       "Shelfordians                   3\n",
       "Filipino Runners               2\n",
       "Coached                        2\n",
       "Filipino runners Singapore     1\n",
       "Run with no shoes in           1\n",
       "Salomon Singapore              1\n",
       "Team Grit OCR                  1\n",
       "Simply Active                  1\n",
       "Singapore Shufflers            1\n",
       "AWA                            1\n",
       "Trail & Error                  1\n",
       "ANZA                           1\n",
       "Metasport                      1\n",
       "Tower running SG               1\n",
       "Credo Endurance                1\n",
       "AWT3                           1\n",
       "matadorRACING                  1\n",
       "Cos coaching                   1\n",
       "FILIPINO RUNNERS               1\n",
       "Coached Fitness                1\n",
       "Nil                            1\n",
       "Alpoint Racing                 1\n",
       "Name: club, dtype: int64"
      ]
     },
     "execution_count": 38,
     "metadata": {},
     "output_type": "execute_result"
    }
   ],
   "source": [
    "df[\"club\"].value_counts()"
   ]
  },
  {
   "cell_type": "markdown",
   "id": "4a8b0544",
   "metadata": {},
   "source": [
    "Most clubs sent one representative. To simplify, we will create a new column to indicate only whether or not a runner is in a club. \n",
    "\n",
    "First, we copy the \"club\" column as \"club_membership\", to be futher modified:"
   ]
  },
  {
   "cell_type": "code",
   "execution_count": 39,
   "id": "0a3745e7",
   "metadata": {},
   "outputs": [],
   "source": [
    "df[\"club_membership\"] = df[\"club\"].copy()"
   ]
  },
  {
   "cell_type": "markdown",
   "id": "cb23514a",
   "metadata": {},
   "source": [
    "One of the clubs is called \"Nil\". Another is called \"Run with no shoes in\". We will have to convert them to \"None\" in the column. "
   ]
  },
  {
   "cell_type": "code",
   "execution_count": 40,
   "id": "c28c2342",
   "metadata": {},
   "outputs": [
    {
     "data": {
      "text/plain": [
       "None                          76\n",
       "Dulwich Runners                8\n",
       "COS Coaching                   3\n",
       "Shufflers                      3\n",
       "Shelfordians                   3\n",
       "Coached                        2\n",
       "Filipino Runners               2\n",
       "Simply Active                  1\n",
       "Credo Endurance                1\n",
       "AWT3                           1\n",
       "Coached Fitness                1\n",
       "Salomon Singapore              1\n",
       "Team Grit OCR                  1\n",
       "Alpoint Racing                 1\n",
       "Singapore Shufflers            1\n",
       "Cos coaching                   1\n",
       "Filipino runners Singapore     1\n",
       "FILIPINO RUNNERS               1\n",
       "Tower running SG               1\n",
       "Trail & Error                  1\n",
       "ANZA                           1\n",
       "Metasport                      1\n",
       "AWA                            1\n",
       "matadorRACING                  1\n",
       "Name: club_membership, dtype: int64"
      ]
     },
     "execution_count": 40,
     "metadata": {},
     "output_type": "execute_result"
    }
   ],
   "source": [
    "df[\"club_membership\"] = df[\"club_membership\"].replace(to_replace=\"Nil\", value=\"None\", regex=False)\n",
    "df[\"club_membership\"] = df[\"club_membership\"].replace(to_replace=\"Run with no shoes in\", value=\"None\", regex=False)\n",
    "\n",
    "df[\"club_membership\"].value_counts()"
   ]
  },
  {
   "cell_type": "markdown",
   "id": "7f4a2684",
   "metadata": {},
   "source": [
    "The values are converted. Then, we change the values of all entries in the column with club names to \"Member\"."
   ]
  },
  {
   "cell_type": "code",
   "execution_count": 41,
   "id": "9eed1ca8",
   "metadata": {},
   "outputs": [],
   "source": [
    "df[\"club_membership\"].where((df[\"club_membership\"] == \"None\"), other=\"Member\", inplace=True)"
   ]
  },
  {
   "cell_type": "code",
   "execution_count": 42,
   "id": "2f0a58e3",
   "metadata": {
    "scrolled": true
   },
   "outputs": [
    {
     "data": {
      "text/html": [
       "<div>\n",
       "<style scoped>\n",
       "    .dataframe tbody tr th:only-of-type {\n",
       "        vertical-align: middle;\n",
       "    }\n",
       "\n",
       "    .dataframe tbody tr th {\n",
       "        vertical-align: top;\n",
       "    }\n",
       "\n",
       "    .dataframe thead th {\n",
       "        text-align: right;\n",
       "    }\n",
       "</style>\n",
       "<table border=\"1\" class=\"dataframe\">\n",
       "  <thead>\n",
       "    <tr style=\"text-align: right;\">\n",
       "      <th></th>\n",
       "      <th>name</th>\n",
       "      <th>club</th>\n",
       "      <th>lap_1</th>\n",
       "      <th>lap_2</th>\n",
       "      <th>time</th>\n",
       "      <th>distance</th>\n",
       "      <th>age</th>\n",
       "      <th>gender</th>\n",
       "      <th>club_membership</th>\n",
       "    </tr>\n",
       "  </thead>\n",
       "  <tbody>\n",
       "    <tr>\n",
       "      <th>0</th>\n",
       "      <td>Malachy Kirwan</td>\n",
       "      <td>None</td>\n",
       "      <td>1269.0</td>\n",
       "      <td>1315.0</td>\n",
       "      <td>2584.0</td>\n",
       "      <td>10km</td>\n",
       "      <td>13+</td>\n",
       "      <td>Male</td>\n",
       "      <td>None</td>\n",
       "    </tr>\n",
       "    <tr>\n",
       "      <th>1</th>\n",
       "      <td>William Petty</td>\n",
       "      <td>Coached</td>\n",
       "      <td>1303.0</td>\n",
       "      <td>1320.0</td>\n",
       "      <td>2624.0</td>\n",
       "      <td>10km</td>\n",
       "      <td>13+</td>\n",
       "      <td>Male</td>\n",
       "      <td>Member</td>\n",
       "    </tr>\n",
       "    <tr>\n",
       "      <th>2</th>\n",
       "      <td>Chris Timms</td>\n",
       "      <td>Dulwich Runners</td>\n",
       "      <td>1335.0</td>\n",
       "      <td>1407.0</td>\n",
       "      <td>2742.0</td>\n",
       "      <td>10km</td>\n",
       "      <td>13+</td>\n",
       "      <td>Male</td>\n",
       "      <td>Member</td>\n",
       "    </tr>\n",
       "    <tr>\n",
       "      <th>3</th>\n",
       "      <td>Benoit Besnier</td>\n",
       "      <td>COS Coaching</td>\n",
       "      <td>1412.0</td>\n",
       "      <td>1442.0</td>\n",
       "      <td>2855.0</td>\n",
       "      <td>10km</td>\n",
       "      <td>13+</td>\n",
       "      <td>Male</td>\n",
       "      <td>Member</td>\n",
       "    </tr>\n",
       "    <tr>\n",
       "      <th>4</th>\n",
       "      <td>Daniel Rose</td>\n",
       "      <td>Coached Fitness</td>\n",
       "      <td>1375.0</td>\n",
       "      <td>1481.0</td>\n",
       "      <td>2856.0</td>\n",
       "      <td>10km</td>\n",
       "      <td>13+</td>\n",
       "      <td>Male</td>\n",
       "      <td>Member</td>\n",
       "    </tr>\n",
       "  </tbody>\n",
       "</table>\n",
       "</div>"
      ],
      "text/plain": [
       "              name             club   lap_1   lap_2    time distance   age  \\\n",
       "0  Malachy Kirwan              None  1269.0  1315.0  2584.0    10km    13+   \n",
       "1   William Petty           Coached  1303.0  1320.0  2624.0    10km    13+   \n",
       "2     Chris Timms   Dulwich Runners  1335.0  1407.0  2742.0    10km    13+   \n",
       "3  Benoit Besnier      COS Coaching  1412.0  1442.0  2855.0    10km    13+   \n",
       "4     Daniel Rose   Coached Fitness  1375.0  1481.0  2856.0    10km    13+   \n",
       "\n",
       "  gender club_membership  \n",
       "0   Male            None  \n",
       "1   Male          Member  \n",
       "2   Male          Member  \n",
       "3   Male          Member  \n",
       "4   Male          Member  "
      ]
     },
     "execution_count": 42,
     "metadata": {},
     "output_type": "execute_result"
    }
   ],
   "source": [
    "df.head()"
   ]
  },
  {
   "cell_type": "markdown",
   "id": "a07ee6bd",
   "metadata": {},
   "source": [
    "We have created the column. Now, let us check out the distribution. "
   ]
  },
  {
   "cell_type": "code",
   "execution_count": 43,
   "id": "e8faca51",
   "metadata": {},
   "outputs": [
    {
     "data": {
      "text/plain": [
       "None      76\n",
       "Member    38\n",
       "Name: club_membership, dtype: int64"
      ]
     },
     "execution_count": 43,
     "metadata": {},
     "output_type": "execute_result"
    }
   ],
   "source": [
    "df[\"club_membership\"].value_counts()"
   ]
  },
  {
   "cell_type": "code",
   "execution_count": 44,
   "id": "82251541",
   "metadata": {},
   "outputs": [
    {
     "data": {
      "image/png": "[encoded data removed]",
      "text/plain": [
       "<Figure size 432x432 with 1 Axes>"
      ]
     },
     "metadata": {
      "needs_background": "light"
     },
     "output_type": "display_data"
    }
   ],
   "source": [
    "df[\"club_membership\"].value_counts().plot(kind=\"bar\", \n",
    "                                 figsize=(6,6),\n",
    "                                 fontsize=14,\n",
    "                                 color=[\"cornflowerblue\", \"indianred\"])\n",
    "plt.title(\"Club Membership Distribution of 10km Runners\", fontsize=16)\n",
    "plt.xlabel(\"Member Status\", fontsize=14)\n",
    "plt.ylabel(\"Number of runners\", fontsize=14)\n",
    "plt.xticks(rotation=0);"
   ]
  },
  {
   "cell_type": "markdown",
   "id": "7162d4f0",
   "metadata": {},
   "source": [
    "Coincidentally, we see a 2:1 ratio again. A third of the runners were in running clubs. "
   ]
  },
  {
   "cell_type": "markdown",
   "id": "77b35a98",
   "metadata": {},
   "source": [
    "## Did the runners in clubs have better timings?\n",
    "\n",
    "Let's highlight the club members in the violin and swarm plot. First, we get the data of only the members, then we plot it:"
   ]
  },
  {
   "cell_type": "code",
   "execution_count": 45,
   "id": "d8641cf6",
   "metadata": {},
   "outputs": [],
   "source": [
    "members = df.loc[df[\"club_membership\"] == \"Member\"]"
   ]
  },
  {
   "cell_type": "code",
   "execution_count": 46,
   "id": "c759c970",
   "metadata": {},
   "outputs": [
    {
     "data": {
      "text/html": [
       "<div>\n",
       "<style scoped>\n",
       "    .dataframe tbody tr th:only-of-type {\n",
       "        vertical-align: middle;\n",
       "    }\n",
       "\n",
       "    .dataframe tbody tr th {\n",
       "        vertical-align: top;\n",
       "    }\n",
       "\n",
       "    .dataframe thead th {\n",
       "        text-align: right;\n",
       "    }\n",
       "</style>\n",
       "<table border=\"1\" class=\"dataframe\">\n",
       "  <thead>\n",
       "    <tr style=\"text-align: right;\">\n",
       "      <th></th>\n",
       "      <th>name</th>\n",
       "      <th>club</th>\n",
       "      <th>lap_1</th>\n",
       "      <th>lap_2</th>\n",
       "      <th>time</th>\n",
       "      <th>distance</th>\n",
       "      <th>age</th>\n",
       "      <th>gender</th>\n",
       "      <th>club_membership</th>\n",
       "    </tr>\n",
       "  </thead>\n",
       "  <tbody>\n",
       "    <tr>\n",
       "      <th>1</th>\n",
       "      <td>William Petty</td>\n",
       "      <td>Coached</td>\n",
       "      <td>1303.0</td>\n",
       "      <td>1320.0</td>\n",
       "      <td>2624.0</td>\n",
       "      <td>10km</td>\n",
       "      <td>13+</td>\n",
       "      <td>Male</td>\n",
       "      <td>Member</td>\n",
       "    </tr>\n",
       "    <tr>\n",
       "      <th>2</th>\n",
       "      <td>Chris Timms</td>\n",
       "      <td>Dulwich Runners</td>\n",
       "      <td>1335.0</td>\n",
       "      <td>1407.0</td>\n",
       "      <td>2742.0</td>\n",
       "      <td>10km</td>\n",
       "      <td>13+</td>\n",
       "      <td>Male</td>\n",
       "      <td>Member</td>\n",
       "    </tr>\n",
       "    <tr>\n",
       "      <th>3</th>\n",
       "      <td>Benoit Besnier</td>\n",
       "      <td>COS Coaching</td>\n",
       "      <td>1412.0</td>\n",
       "      <td>1442.0</td>\n",
       "      <td>2855.0</td>\n",
       "      <td>10km</td>\n",
       "      <td>13+</td>\n",
       "      <td>Male</td>\n",
       "      <td>Member</td>\n",
       "    </tr>\n",
       "    <tr>\n",
       "      <th>4</th>\n",
       "      <td>Daniel Rose</td>\n",
       "      <td>Coached Fitness</td>\n",
       "      <td>1375.0</td>\n",
       "      <td>1481.0</td>\n",
       "      <td>2856.0</td>\n",
       "      <td>10km</td>\n",
       "      <td>13+</td>\n",
       "      <td>Male</td>\n",
       "      <td>Member</td>\n",
       "    </tr>\n",
       "    <tr>\n",
       "      <th>6</th>\n",
       "      <td>Ian Stewart</td>\n",
       "      <td>Dulwich Runners</td>\n",
       "      <td>1407.0</td>\n",
       "      <td>1537.0</td>\n",
       "      <td>2944.0</td>\n",
       "      <td>10km</td>\n",
       "      <td>13+</td>\n",
       "      <td>Male</td>\n",
       "      <td>Member</td>\n",
       "    </tr>\n",
       "  </tbody>\n",
       "</table>\n",
       "</div>"
      ],
      "text/plain": [
       "              name             club   lap_1   lap_2    time distance   age  \\\n",
       "1   William Petty           Coached  1303.0  1320.0  2624.0    10km    13+   \n",
       "2     Chris Timms   Dulwich Runners  1335.0  1407.0  2742.0    10km    13+   \n",
       "3  Benoit Besnier      COS Coaching  1412.0  1442.0  2855.0    10km    13+   \n",
       "4     Daniel Rose   Coached Fitness  1375.0  1481.0  2856.0    10km    13+   \n",
       "6     Ian Stewart   Dulwich Runners  1407.0  1537.0  2944.0    10km    13+   \n",
       "\n",
       "  gender club_membership  \n",
       "1   Male          Member  \n",
       "2   Male          Member  \n",
       "3   Male          Member  \n",
       "4   Male          Member  \n",
       "6   Male          Member  "
      ]
     },
     "execution_count": 46,
     "metadata": {},
     "output_type": "execute_result"
    }
   ],
   "source": [
    "members.head()"
   ]
  },
  {
   "cell_type": "code",
   "execution_count": 47,
   "id": "736e2171",
   "metadata": {},
   "outputs": [
    {
     "data": {
      "image/png": "[encoded data removed]",
      "text/plain": [
       "<Figure size 576x576 with 1 Axes>"
      ]
     },
     "metadata": {},
     "output_type": "display_data"
    }
   ],
   "source": [
    "plt.figure(figsize=(8, 8), facecolor=\"w\", edgecolor=\"k\")\n",
    "sns.violinplot(x=\"gender\", y=\"time\", data=df, inner=\"quartile\", palette=\"pastel\")\n",
    "sns.swarmplot(x=\"gender\", y=\"time\", data=df, color=\"indigo\")\n",
    "sns.swarmplot(x=\"gender\", y=\"time\", data=members, color=\"r\")\n",
    "plt.xticks(fontsize=14)\n",
    "plt.yticks(fontsize=14)\n",
    "plt.xlabel(\"Gender\", fontsize=16)\n",
    "plt.ylabel(\"Timing\", fontsize=16)\n",
    "plt.title(\"Distribution of 10km Runners' Timings by Gender and Club Membership\", fontsize=18)\n",
    "plt.text(-0.3, 7500, \"Members of \\nclubs in red \", bbox={'facecolor': 'white', 'pad': 3})\n",
    "plt.gca().yaxis.set_major_formatter(ticker.FuncFormatter(time_tick_formatter))\n",
    "plt.gca().yaxis.set_major_locator(ticker.MultipleLocator(base=900))"
   ]
  },
  {
   "cell_type": "markdown",
   "id": "8e5c78a6",
   "metadata": {},
   "source": [
    "Here, we can see that the club members were clustered more towards the front in both the male and female groups, thus showing that they were generally faster runners. The fastest runner for the female group was from a club. \n",
    "\n",
    "Can we quantitatively determine this? We can compare the median running timings between the members and non-members.\n",
    "\n",
    "First, we extract the non-members into a DataFrame. Then, we get the median timings of both groups by gender."
   ]
  },
  {
   "cell_type": "code",
   "execution_count": 48,
   "id": "b008cdd9",
   "metadata": {},
   "outputs": [],
   "source": [
    "non_members = df.loc[df[\"club_membership\"] == \"None\"]"
   ]
  },
  {
   "cell_type": "code",
   "execution_count": 49,
   "id": "01fb260a",
   "metadata": {},
   "outputs": [
    {
     "data": {
      "text/html": [
       "<div>\n",
       "<style scoped>\n",
       "    .dataframe tbody tr th:only-of-type {\n",
       "        vertical-align: middle;\n",
       "    }\n",
       "\n",
       "    .dataframe tbody tr th {\n",
       "        vertical-align: top;\n",
       "    }\n",
       "\n",
       "    .dataframe thead th {\n",
       "        text-align: right;\n",
       "    }\n",
       "</style>\n",
       "<table border=\"1\" class=\"dataframe\">\n",
       "  <thead>\n",
       "    <tr style=\"text-align: right;\">\n",
       "      <th></th>\n",
       "      <th>name</th>\n",
       "      <th>club</th>\n",
       "      <th>lap_1</th>\n",
       "      <th>lap_2</th>\n",
       "      <th>time</th>\n",
       "      <th>distance</th>\n",
       "      <th>age</th>\n",
       "      <th>gender</th>\n",
       "      <th>club_membership</th>\n",
       "    </tr>\n",
       "  </thead>\n",
       "  <tbody>\n",
       "    <tr>\n",
       "      <th>0</th>\n",
       "      <td>Malachy Kirwan</td>\n",
       "      <td>None</td>\n",
       "      <td>1269.0</td>\n",
       "      <td>1315.0</td>\n",
       "      <td>2584.0</td>\n",
       "      <td>10km</td>\n",
       "      <td>13+</td>\n",
       "      <td>Male</td>\n",
       "      <td>None</td>\n",
       "    </tr>\n",
       "    <tr>\n",
       "      <th>5</th>\n",
       "      <td>Stanislav Miroshnichenko</td>\n",
       "      <td>None</td>\n",
       "      <td>1462.0</td>\n",
       "      <td>1463.0</td>\n",
       "      <td>2925.0</td>\n",
       "      <td>10km</td>\n",
       "      <td>13+</td>\n",
       "      <td>Male</td>\n",
       "      <td>None</td>\n",
       "    </tr>\n",
       "    <tr>\n",
       "      <th>7</th>\n",
       "      <td>Tycen Bundgaard</td>\n",
       "      <td>None</td>\n",
       "      <td>1501.0</td>\n",
       "      <td>1487.0</td>\n",
       "      <td>2988.0</td>\n",
       "      <td>10km</td>\n",
       "      <td>13+</td>\n",
       "      <td>Male</td>\n",
       "      <td>None</td>\n",
       "    </tr>\n",
       "    <tr>\n",
       "      <th>9</th>\n",
       "      <td>Anish Jha</td>\n",
       "      <td>None</td>\n",
       "      <td>1528.0</td>\n",
       "      <td>1540.0</td>\n",
       "      <td>3069.0</td>\n",
       "      <td>10km</td>\n",
       "      <td>13+</td>\n",
       "      <td>Male</td>\n",
       "      <td>None</td>\n",
       "    </tr>\n",
       "    <tr>\n",
       "      <th>10</th>\n",
       "      <td>Jonathan Eudeline</td>\n",
       "      <td>None</td>\n",
       "      <td>1532.0</td>\n",
       "      <td>1569.0</td>\n",
       "      <td>3101.0</td>\n",
       "      <td>10km</td>\n",
       "      <td>13+</td>\n",
       "      <td>Male</td>\n",
       "      <td>None</td>\n",
       "    </tr>\n",
       "  </tbody>\n",
       "</table>\n",
       "</div>"
      ],
      "text/plain": [
       "                        name  club   lap_1   lap_2    time distance   age  \\\n",
       "0            Malachy Kirwan   None  1269.0  1315.0  2584.0    10km    13+   \n",
       "5   Stanislav Miroshnichenko  None  1462.0  1463.0  2925.0    10km    13+   \n",
       "7           Tycen Bundgaard   None  1501.0  1487.0  2988.0    10km    13+   \n",
       "9                 Anish Jha   None  1528.0  1540.0  3069.0    10km    13+   \n",
       "10        Jonathan Eudeline   None  1532.0  1569.0  3101.0    10km    13+   \n",
       "\n",
       "   gender club_membership  \n",
       "0    Male            None  \n",
       "5    Male            None  \n",
       "7    Male            None  \n",
       "9    Male            None  \n",
       "10   Male            None  "
      ]
     },
     "execution_count": 49,
     "metadata": {},
     "output_type": "execute_result"
    }
   ],
   "source": [
    "non_members.head()"
   ]
  },
  {
   "cell_type": "markdown",
   "id": "a8619931",
   "metadata": {},
   "source": [
    "## For males:"
   ]
  },
  {
   "cell_type": "markdown",
   "id": "2b3f492b",
   "metadata": {},
   "source": [
    "**Median running time for males NOT in clubs:**"
   ]
  },
  {
   "cell_type": "code",
   "execution_count": 50,
   "id": "6521555f",
   "metadata": {},
   "outputs": [
    {
     "data": {
      "text/plain": [
       "'1h:01m'"
      ]
     },
     "execution_count": 50,
     "metadata": {},
     "output_type": "execute_result"
    }
   ],
   "source": [
    "time_formatter(non_members.loc[df[\"gender\"] == \"Male\", \"time\"].median())"
   ]
  },
  {
   "cell_type": "markdown",
   "id": "76d3336d",
   "metadata": {},
   "source": [
    "**Median running time for males in clubs:**"
   ]
  },
  {
   "cell_type": "code",
   "execution_count": 51,
   "id": "98ff1141",
   "metadata": {
    "scrolled": false
   },
   "outputs": [
    {
     "data": {
      "text/plain": [
       "'0h:52m'"
      ]
     },
     "execution_count": 51,
     "metadata": {},
     "output_type": "execute_result"
    }
   ],
   "source": [
    "time_formatter(members.loc[df[\"gender\"] == \"Male\", \"time\"].median())"
   ]
  },
  {
   "cell_type": "markdown",
   "id": "69862972",
   "metadata": {},
   "source": [
    "## For females:"
   ]
  },
  {
   "cell_type": "markdown",
   "id": "9377bb77",
   "metadata": {},
   "source": [
    "**Median running time for females NOT in clubs:**"
   ]
  },
  {
   "cell_type": "code",
   "execution_count": 52,
   "id": "d2107e1e",
   "metadata": {
    "scrolled": true
   },
   "outputs": [
    {
     "data": {
      "text/plain": [
       "'1h:22m'"
      ]
     },
     "execution_count": 52,
     "metadata": {},
     "output_type": "execute_result"
    }
   ],
   "source": [
    "time_formatter(non_members.loc[df[\"gender\"] == \"Female\", \"time\"].median())"
   ]
  },
  {
   "cell_type": "markdown",
   "id": "2f49cab8",
   "metadata": {},
   "source": [
    "**Median running time for females in clubs:**"
   ]
  },
  {
   "cell_type": "code",
   "execution_count": 53,
   "id": "00a5cc47",
   "metadata": {
    "scrolled": true
   },
   "outputs": [
    {
     "data": {
      "text/plain": [
       "'1h:08m'"
      ]
     },
     "execution_count": 53,
     "metadata": {},
     "output_type": "execute_result"
    }
   ],
   "source": [
    "time_formatter(members.loc[df[\"gender\"] == \"Female\", \"time\"].median())"
   ]
  },
  {
   "cell_type": "markdown",
   "id": "3553e63f",
   "metadata": {},
   "source": [
    "Thus, we can see that by gender, the median times were faster for those in clubs."
   ]
  },
  {
   "cell_type": "markdown",
   "id": "9caa42b4",
   "metadata": {},
   "source": [
    "## Did the club members have a different gender distribution as a group compared to non members?"
   ]
  },
  {
   "cell_type": "code",
   "execution_count": 54,
   "id": "028560cf",
   "metadata": {},
   "outputs": [
    {
     "data": {
      "image/png": "[encoded data removed]",
      "text/plain": [
       "<Figure size 504x324 with 2 Axes>"
      ]
     },
     "metadata": {
      "needs_background": "light"
     },
     "output_type": "display_data"
    }
   ],
   "source": [
    "fig, ax = plt.subplots(1, 2)\n",
    "\n",
    "plt.subplot(1, 2, 1)\n",
    "non_members[\"gender\"].value_counts().plot(kind=\"bar\", \n",
    "                                 figsize=(7, 4.5),\n",
    "                                 fontsize=14,\n",
    "                                 color=[\"cornflowerblue\", \"indianred\"])\n",
    "plt.title(\"Gender Distribution of 10km \\nRunners not in Clubs\", fontsize=16)\n",
    "plt.xlabel(\"Gender\", fontsize=14)\n",
    "plt.ylabel(\"Number of runners\", fontsize=14)\n",
    "plt.xticks(rotation=0);\n",
    "\n",
    "plt.subplot(1, 2, 2)\n",
    "members[\"gender\"].value_counts().plot(kind=\"bar\", \n",
    "                                 figsize=(7, 4.5),\n",
    "                                 fontsize=14,\n",
    "                                 color=[\"cornflowerblue\", \"indianred\"])\n",
    "plt.title(\"Gender Distribution \\nof 10km Runners in Clubs\", fontsize=16)\n",
    "plt.xlabel(\"Gender\", fontsize=14)\n",
    "plt.ylabel(\"Number of runners\", fontsize=14)\n",
    "plt.xticks(rotation=0);\n",
    "\n",
    "fig.tight_layout()"
   ]
  },
  {
   "cell_type": "markdown",
   "id": "75cb1705",
   "metadata": {},
   "source": [
    "Based on the normalised \"Male\" bars between both plots, we can see that the female proportion in clubs was slightly less than the group that was not in clubs. "
   ]
  },
  {
   "cell_type": "markdown",
   "id": "654d21ef",
   "metadata": {},
   "source": [
    "## Do the club members have a different age distribution as a group compared to non members?"
   ]
  },
  {
   "cell_type": "code",
   "execution_count": 55,
   "id": "06596044",
   "metadata": {},
   "outputs": [
    {
     "data": {
      "image/png": "[encoded data removed]",
      "text/plain": [
       "<Figure size 504x324 with 2 Axes>"
      ]
     },
     "metadata": {
      "needs_background": "light"
     },
     "output_type": "display_data"
    }
   ],
   "source": [
    "fig, ax = plt.subplots(1, 2)\n",
    "\n",
    "plt.subplot(1, 2, 1)\n",
    "non_members[\"age\"].value_counts().plot(kind=\"bar\", \n",
    "                                 figsize=(7, 4.5),\n",
    "                                 fontsize=14,\n",
    "                                 color=[\"cornflowerblue\", \"indianred\"])\n",
    "plt.title(\"Age Distribution of 10km \\nRunners not in Clubs\", fontsize=16)\n",
    "plt.xlabel(\"Age\", fontsize=14)\n",
    "plt.ylabel(\"Number of runners\", fontsize=14)\n",
    "plt.xticks(rotation=0);\n",
    "\n",
    "plt.subplot(1, 2, 2)\n",
    "members[\"age\"].value_counts().plot(kind=\"bar\", \n",
    "                                 figsize=(7, 4.5),\n",
    "                                 fontsize=14,\n",
    "                                 color=[\"cornflowerblue\", \"indianred\"])\n",
    "plt.title(\"Age Distribution \\nof 10km Runners in Clubs\", fontsize=16)\n",
    "plt.xlabel(\"Age\", fontsize=14)\n",
    "plt.ylabel(\"Number of runners\", fontsize=14)\n",
    "plt.xticks(rotation=0);\n",
    "\n",
    "fig.tight_layout()"
   ]
  },
  {
   "cell_type": "markdown",
   "id": "d8cefeb3",
   "metadata": {},
   "source": [
    "Based on the normalised \"13+\" bars between both plots, we can see that the there was a slightly greater proportion of younger runners in clubs. "
   ]
  },
  {
   "cell_type": "markdown",
   "id": "be16ce58",
   "metadata": {},
   "source": [
    "## Amongst the club members, how were the older runners doing? \n",
    "\n",
    "First, we create a DataFrame to specify the older group, and then we plot them on the violin and swarm plot."
   ]
  },
  {
   "cell_type": "code",
   "execution_count": 56,
   "id": "9734925e",
   "metadata": {},
   "outputs": [],
   "source": [
    "older_members = members[members[\"age\"].str.contains(\"40+\", na=False, regex=False)]"
   ]
  },
  {
   "cell_type": "code",
   "execution_count": 57,
   "id": "212f283a",
   "metadata": {},
   "outputs": [
    {
     "data": {
      "text/html": [
       "<div>\n",
       "<style scoped>\n",
       "    .dataframe tbody tr th:only-of-type {\n",
       "        vertical-align: middle;\n",
       "    }\n",
       "\n",
       "    .dataframe tbody tr th {\n",
       "        vertical-align: top;\n",
       "    }\n",
       "\n",
       "    .dataframe thead th {\n",
       "        text-align: right;\n",
       "    }\n",
       "</style>\n",
       "<table border=\"1\" class=\"dataframe\">\n",
       "  <thead>\n",
       "    <tr style=\"text-align: right;\">\n",
       "      <th></th>\n",
       "      <th>name</th>\n",
       "      <th>club</th>\n",
       "      <th>lap_1</th>\n",
       "      <th>lap_2</th>\n",
       "      <th>time</th>\n",
       "      <th>distance</th>\n",
       "      <th>age</th>\n",
       "      <th>gender</th>\n",
       "      <th>club_membership</th>\n",
       "    </tr>\n",
       "  </thead>\n",
       "  <tbody>\n",
       "    <tr>\n",
       "      <th>76</th>\n",
       "      <td>Dan Smith</td>\n",
       "      <td>matadorRACING</td>\n",
       "      <td>1440.0</td>\n",
       "      <td>1438.0</td>\n",
       "      <td>2879.0</td>\n",
       "      <td>10km</td>\n",
       "      <td>40+</td>\n",
       "      <td>Male</td>\n",
       "      <td>Member</td>\n",
       "    </tr>\n",
       "    <tr>\n",
       "      <th>78</th>\n",
       "      <td>Tom Chamberlain</td>\n",
       "      <td>Trail &amp; Error</td>\n",
       "      <td>1523.0</td>\n",
       "      <td>1643.0</td>\n",
       "      <td>3167.0</td>\n",
       "      <td>10km</td>\n",
       "      <td>40+</td>\n",
       "      <td>Male</td>\n",
       "      <td>Member</td>\n",
       "    </tr>\n",
       "    <tr>\n",
       "      <th>79</th>\n",
       "      <td>Tony Seakins</td>\n",
       "      <td>Shufflers</td>\n",
       "      <td>1567.0</td>\n",
       "      <td>1624.0</td>\n",
       "      <td>3191.0</td>\n",
       "      <td>10km</td>\n",
       "      <td>40+</td>\n",
       "      <td>Male</td>\n",
       "      <td>Member</td>\n",
       "    </tr>\n",
       "    <tr>\n",
       "      <th>85</th>\n",
       "      <td>Wei Chong Chin</td>\n",
       "      <td>Salomon Singapore</td>\n",
       "      <td>1610.0</td>\n",
       "      <td>1792.0</td>\n",
       "      <td>3402.0</td>\n",
       "      <td>10km</td>\n",
       "      <td>40+</td>\n",
       "      <td>Male</td>\n",
       "      <td>Member</td>\n",
       "    </tr>\n",
       "    <tr>\n",
       "      <th>88</th>\n",
       "      <td>Dean Collins</td>\n",
       "      <td>Coached</td>\n",
       "      <td>1783.0</td>\n",
       "      <td>1974.0</td>\n",
       "      <td>3757.0</td>\n",
       "      <td>10km</td>\n",
       "      <td>40+</td>\n",
       "      <td>Male</td>\n",
       "      <td>Member</td>\n",
       "    </tr>\n",
       "    <tr>\n",
       "      <th>91</th>\n",
       "      <td>Alvin Wong</td>\n",
       "      <td>Alpoint Racing</td>\n",
       "      <td>1800.0</td>\n",
       "      <td>2047.0</td>\n",
       "      <td>3847.0</td>\n",
       "      <td>10km</td>\n",
       "      <td>40+</td>\n",
       "      <td>Male</td>\n",
       "      <td>Member</td>\n",
       "    </tr>\n",
       "    <tr>\n",
       "      <th>92</th>\n",
       "      <td>Conor Delahunty</td>\n",
       "      <td>ANZA</td>\n",
       "      <td>1932.0</td>\n",
       "      <td>2387.0</td>\n",
       "      <td>4319.0</td>\n",
       "      <td>10km</td>\n",
       "      <td>40+</td>\n",
       "      <td>Male</td>\n",
       "      <td>Member</td>\n",
       "    </tr>\n",
       "    <tr>\n",
       "      <th>100</th>\n",
       "      <td>Itsuko Tanaka</td>\n",
       "      <td>Metasport</td>\n",
       "      <td>1610.0</td>\n",
       "      <td>1675.0</td>\n",
       "      <td>3285.0</td>\n",
       "      <td>10km</td>\n",
       "      <td>40+</td>\n",
       "      <td>Female</td>\n",
       "      <td>Member</td>\n",
       "    </tr>\n",
       "    <tr>\n",
       "      <th>103</th>\n",
       "      <td>Delia Jayme Toledo</td>\n",
       "      <td>Tower running SG</td>\n",
       "      <td>1878.0</td>\n",
       "      <td>1966.0</td>\n",
       "      <td>3845.0</td>\n",
       "      <td>10km</td>\n",
       "      <td>40+</td>\n",
       "      <td>Female</td>\n",
       "      <td>Member</td>\n",
       "    </tr>\n",
       "    <tr>\n",
       "      <th>106</th>\n",
       "      <td>Nikki Elliott</td>\n",
       "      <td>AWA</td>\n",
       "      <td>2341.0</td>\n",
       "      <td>2620.0</td>\n",
       "      <td>4961.0</td>\n",
       "      <td>10km</td>\n",
       "      <td>40+</td>\n",
       "      <td>Female</td>\n",
       "      <td>Member</td>\n",
       "    </tr>\n",
       "  </tbody>\n",
       "</table>\n",
       "</div>"
      ],
      "text/plain": [
       "                   name               club   lap_1   lap_2    time distance  \\\n",
       "76           Dan Smith       matadorRACING  1440.0  1438.0  2879.0    10km    \n",
       "78     Tom Chamberlain       Trail & Error  1523.0  1643.0  3167.0    10km    \n",
       "79        Tony Seakins           Shufflers  1567.0  1624.0  3191.0    10km    \n",
       "85      Wei Chong Chin   Salomon Singapore  1610.0  1792.0  3402.0    10km    \n",
       "88        Dean Collins             Coached  1783.0  1974.0  3757.0    10km    \n",
       "91          Alvin Wong      Alpoint Racing  1800.0  2047.0  3847.0    10km    \n",
       "92     Conor Delahunty                ANZA  1932.0  2387.0  4319.0    10km    \n",
       "100      Itsuko Tanaka           Metasport  1610.0  1675.0  3285.0    10km    \n",
       "103  Delia Jayme Toledo   Tower running SG  1878.0  1966.0  3845.0    10km    \n",
       "106      Nikki Elliott                 AWA  2341.0  2620.0  4961.0    10km    \n",
       "\n",
       "      age  gender club_membership  \n",
       "76    40+    Male          Member  \n",
       "78    40+    Male          Member  \n",
       "79    40+    Male          Member  \n",
       "85    40+    Male          Member  \n",
       "88    40+    Male          Member  \n",
       "91    40+    Male          Member  \n",
       "92    40+    Male          Member  \n",
       "100   40+  Female          Member  \n",
       "103   40+  Female          Member  \n",
       "106   40+  Female          Member  "
      ]
     },
     "execution_count": 57,
     "metadata": {},
     "output_type": "execute_result"
    }
   ],
   "source": [
    "older_members"
   ]
  },
  {
   "cell_type": "code",
   "execution_count": 58,
   "id": "d89007ab",
   "metadata": {
    "scrolled": false
   },
   "outputs": [
    {
     "data": {
      "image/png": "[encoded data removed]",
      "text/plain": [
       "<Figure size 576x576 with 1 Axes>"
      ]
     },
     "metadata": {},
     "output_type": "display_data"
    }
   ],
   "source": [
    "plt.figure(figsize=(8, 8), facecolor=\"w\", edgecolor=\"k\")\n",
    "sns.violinplot(x=\"gender\", y=\"time\", data=df, inner=\"quartile\", palette=\"pastel\")\n",
    "sns.swarmplot(x=\"gender\", y=\"time\", data=members, color=\"r\")\n",
    "sns.swarmplot(x=\"gender\", y=\"time\", data=older_members, color=\"g\")\n",
    "plt.xticks(fontsize=14)\n",
    "plt.yticks(fontsize=14)\n",
    "plt.xlabel(\"Gender\", fontsize=16)\n",
    "plt.ylabel(\"Timing\", fontsize=16)\n",
    "plt.title(\"Distribution of 10km Runners' Timings by Gender for Club Members\", fontsize=18)\n",
    "plt.text(-0.30, 7200, \"Members aged \\n13+ in red, \\n40+ in green\", bbox={'facecolor': 'white', 'pad': 3})\n",
    "plt.gca().yaxis.set_major_formatter(ticker.FuncFormatter(time_tick_formatter))\n",
    "plt.gca().yaxis.set_major_locator(ticker.MultipleLocator(base=900))"
   ]
  },
  {
   "cell_type": "markdown",
   "id": "5a9df789",
   "metadata": {},
   "source": [
    "The sample size for runners in clubs aged 40 and above is small, but from the plot, the age-related observations for both males and females seem to mirror what was seen when the analysis was done on all 10km runners. "
   ]
  },
  {
   "cell_type": "markdown",
   "id": "7160f316",
   "metadata": {},
   "source": [
    "## Controlling for the effect of age group (and gender), was membership in a club indicative of better timings?"
   ]
  },
  {
   "cell_type": "markdown",
   "id": "830f9edd",
   "metadata": {},
   "source": [
    "## For males aged 13+:"
   ]
  },
  {
   "cell_type": "markdown",
   "id": "5840382a",
   "metadata": {},
   "source": [
    "**Median running time for males aged 13+ NOT in clubs:**"
   ]
  },
  {
   "cell_type": "code",
   "execution_count": 59,
   "id": "2f91d222",
   "metadata": {
    "scrolled": false
   },
   "outputs": [
    {
     "data": {
      "text/plain": [
       "'1h:01m'"
      ]
     },
     "execution_count": 59,
     "metadata": {},
     "output_type": "execute_result"
    }
   ],
   "source": [
    "time_formatter(males_13.loc[df[\"club_membership\"] == \"None\", \"time\"].median())"
   ]
  },
  {
   "cell_type": "markdown",
   "id": "9b66aa69",
   "metadata": {},
   "source": [
    "**Median running time for males aged 13+ in clubs:**"
   ]
  },
  {
   "cell_type": "code",
   "execution_count": 60,
   "id": "4379d7e0",
   "metadata": {
    "scrolled": true
   },
   "outputs": [
    {
     "data": {
      "text/plain": [
       "'0h:49m'"
      ]
     },
     "execution_count": 60,
     "metadata": {},
     "output_type": "execute_result"
    }
   ],
   "source": [
    "time_formatter(males_13.loc[df[\"club_membership\"] == \"Member\", \"time\"].median())"
   ]
  },
  {
   "cell_type": "markdown",
   "id": "5d14a78f",
   "metadata": {},
   "source": [
    "## For males aged 40+:"
   ]
  },
  {
   "cell_type": "markdown",
   "id": "0db59a3d",
   "metadata": {},
   "source": [
    "**Median running time for males aged 40+ NOT in clubs:**"
   ]
  },
  {
   "cell_type": "code",
   "execution_count": 61,
   "id": "92b064b0",
   "metadata": {},
   "outputs": [
    {
     "data": {
      "text/plain": [
       "'1h:03m'"
      ]
     },
     "execution_count": 61,
     "metadata": {},
     "output_type": "execute_result"
    }
   ],
   "source": [
    "time_formatter(males_40.loc[df[\"club_membership\"] == \"None\", \"time\"].median())"
   ]
  },
  {
   "cell_type": "markdown",
   "id": "015f7015",
   "metadata": {},
   "source": [
    "**Median running time for males aged 40+ in clubs:**"
   ]
  },
  {
   "cell_type": "code",
   "execution_count": 62,
   "id": "fdb8d79f",
   "metadata": {},
   "outputs": [
    {
     "data": {
      "text/plain": [
       "'0h:56m'"
      ]
     },
     "execution_count": 62,
     "metadata": {},
     "output_type": "execute_result"
    }
   ],
   "source": [
    "time_formatter(males_40.loc[df[\"club_membership\"] == \"Member\", \"time\"].median())"
   ]
  },
  {
   "cell_type": "markdown",
   "id": "fe0900a4",
   "metadata": {},
   "source": [
    "## For females aged 13+:"
   ]
  },
  {
   "cell_type": "markdown",
   "id": "db263443",
   "metadata": {},
   "source": [
    "**Median running time for females aged 13+ NOT in clubs:**"
   ]
  },
  {
   "cell_type": "code",
   "execution_count": 63,
   "id": "e21f24cc",
   "metadata": {},
   "outputs": [
    {
     "data": {
      "text/plain": [
       "'1h:20m'"
      ]
     },
     "execution_count": 63,
     "metadata": {},
     "output_type": "execute_result"
    }
   ],
   "source": [
    "time_formatter(females_13.loc[df[\"club_membership\"] == \"None\", \"time\"].median())"
   ]
  },
  {
   "cell_type": "markdown",
   "id": "ce32bd22",
   "metadata": {},
   "source": [
    "**Median running time for females aged 13+ in clubs:**"
   ]
  },
  {
   "cell_type": "code",
   "execution_count": 64,
   "id": "c699f921",
   "metadata": {},
   "outputs": [
    {
     "data": {
      "text/plain": [
       "'1h:09m'"
      ]
     },
     "execution_count": 64,
     "metadata": {},
     "output_type": "execute_result"
    }
   ],
   "source": [
    "time_formatter(females_13.loc[df[\"club_membership\"] == \"Member\", \"time\"].median())"
   ]
  },
  {
   "cell_type": "markdown",
   "id": "649fdbc4",
   "metadata": {},
   "source": [
    "## For females aged 40+:"
   ]
  },
  {
   "cell_type": "markdown",
   "id": "24dbdb84",
   "metadata": {},
   "source": [
    "**Median running time for females aged 40+ NOT in clubs:**"
   ]
  },
  {
   "cell_type": "code",
   "execution_count": 65,
   "id": "150d59a3",
   "metadata": {},
   "outputs": [
    {
     "data": {
      "text/plain": [
       "'1h:26m'"
      ]
     },
     "execution_count": 65,
     "metadata": {},
     "output_type": "execute_result"
    }
   ],
   "source": [
    "time_formatter(females_40.loc[df[\"club_membership\"] == \"None\", \"time\"].median())"
   ]
  },
  {
   "cell_type": "markdown",
   "id": "2aad6e87",
   "metadata": {},
   "source": [
    "**Median running time for females aged 40+ in clubs:**"
   ]
  },
  {
   "cell_type": "code",
   "execution_count": 66,
   "id": "e771447e",
   "metadata": {
    "scrolled": true
   },
   "outputs": [
    {
     "data": {
      "text/plain": [
       "'1h:04m'"
      ]
     },
     "execution_count": 66,
     "metadata": {},
     "output_type": "execute_result"
    }
   ],
   "source": [
    "time_formatter(females_40.loc[df[\"club_membership\"] == \"Member\", \"time\"].median())"
   ]
  },
  {
   "cell_type": "markdown",
   "id": "b4a2d2a1",
   "metadata": {},
   "source": [
    "For each pair of comparisons, the runners in clubs had a lower median timing. Hence, based on the median, we can conclude that membership in a club was indicative of better timings (after having controlled for age and gender). \n",
    "\n",
    "There was a greater difference for females aged 40+ between being a club member versus not being one, as compared to the comparisons made in the other groups. "
   ]
  },
  {
   "cell_type": "markdown",
   "id": "cbc1e7ac",
   "metadata": {},
   "source": [
    "## How did the first lap of runners compare to their second lap?\n",
    "\n",
    "Since we have the split timings, we can plot them against each other. It is a split because there were only two laps. \n",
    "\n",
    "We can add a bisecting dotted line to show where a runner would be if they took an equal duration for both the laps. \n",
    "\n",
    "Let us also highlight Murphy on the plot. "
   ]
  },
  {
   "cell_type": "code",
   "execution_count": 67,
   "id": "0269d3e7",
   "metadata": {},
   "outputs": [
    {
     "data": {
      "image/png": "[encoded data removed]",
      "text/plain": [
       "<Figure size 576x576 with 3 Axes>"
      ]
     },
     "metadata": {},
     "output_type": "display_data"
    }
   ],
   "source": [
    "with sns.axes_style(\"white\"):\n",
    "    g = sns.jointplot(x=\"lap_1\", y=\"lap_2\", data=df, kind=\"scatter\", height=8, color=\"royalblue\")\n",
    "    g.ax_joint.scatter(x=\"lap_1\", y=\"lap_2\", data=individual, color = 'red')\n",
    "    g.ax_joint.plot(np.linspace(1000, 4000),\n",
    "                    np.linspace(1000, 4000), \":k\")\n",
    "    g.fig.suptitle(\"1st Lap Timing vs. 2nd Lap Timing\")\n",
    "    ax1 =g.ax_marg_x\n",
    "    ax2 = g.ax_marg_y\n",
    "    ax1.xaxis.set_major_formatter(ticker.FuncFormatter(time_tick_formatter))\n",
    "    ax1.xaxis.set_major_locator(ticker.MultipleLocator(base=900))\n",
    "    ax2.yaxis.set_major_formatter(ticker.FuncFormatter(time_tick_formatter))\n",
    "    ax2.yaxis.set_major_locator(ticker.MultipleLocator(base=900))\n",
    "    g.fig.subplots_adjust(top=0.93) \n",
    "    # Without adjusting, the title overlaps with the plot\n",
    "    plt.text(-105, 2000, \"Murphy (in red)\")\n",
    "    g.ax_joint.set_xlabel(\"1st Lap Timing\", fontsize=15)\n",
    "    g.ax_joint.set_ylabel(\"2nd Lap Timing\", fontsize=15);"
   ]
  },
  {
   "cell_type": "markdown",
   "id": "ba314b37",
   "metadata": {},
   "source": [
    "Most of the runners took a longer duration in the 2nd lap, which was logical since they would probably have been fatigued from the first lap. They are on the upper side of the bisecting dotted line. However, it seems some runners actually ran _faster_ in the second lap."
   ]
  },
  {
   "cell_type": "markdown",
   "id": "6ec1e690",
   "metadata": {},
   "source": [
    "## Who were the runners who ran faster in their second lap?\n",
    "\n",
    "First, we create a new column of \"split_fraction\", which is 1 minus the ratio of the first lap to the second lap. A positive value means that the first lap took less time. Thus, the runners with a negative value were the ones who took less time (and thus ran faster) in their second lap."
   ]
  },
  {
   "cell_type": "code",
   "execution_count": 68,
   "id": "4da11d2a",
   "metadata": {},
   "outputs": [],
   "source": [
    "df[\"split_fraction\"] = 1 - df[\"lap_1\"]/df[\"lap_2\"]"
   ]
  },
  {
   "cell_type": "code",
   "execution_count": 69,
   "id": "fb00c37e",
   "metadata": {},
   "outputs": [
    {
     "data": {
      "text/html": [
       "<div>\n",
       "<style scoped>\n",
       "    .dataframe tbody tr th:only-of-type {\n",
       "        vertical-align: middle;\n",
       "    }\n",
       "\n",
       "    .dataframe tbody tr th {\n",
       "        vertical-align: top;\n",
       "    }\n",
       "\n",
       "    .dataframe thead th {\n",
       "        text-align: right;\n",
       "    }\n",
       "</style>\n",
       "<table border=\"1\" class=\"dataframe\">\n",
       "  <thead>\n",
       "    <tr style=\"text-align: right;\">\n",
       "      <th></th>\n",
       "      <th>name</th>\n",
       "      <th>club</th>\n",
       "      <th>lap_1</th>\n",
       "      <th>lap_2</th>\n",
       "      <th>time</th>\n",
       "      <th>distance</th>\n",
       "      <th>age</th>\n",
       "      <th>gender</th>\n",
       "      <th>club_membership</th>\n",
       "      <th>split_fraction</th>\n",
       "    </tr>\n",
       "  </thead>\n",
       "  <tbody>\n",
       "    <tr>\n",
       "      <th>0</th>\n",
       "      <td>Malachy Kirwan</td>\n",
       "      <td>None</td>\n",
       "      <td>1269.0</td>\n",
       "      <td>1315.0</td>\n",
       "      <td>2584.0</td>\n",
       "      <td>10km</td>\n",
       "      <td>13+</td>\n",
       "      <td>Male</td>\n",
       "      <td>None</td>\n",
       "      <td>0.034981</td>\n",
       "    </tr>\n",
       "    <tr>\n",
       "      <th>1</th>\n",
       "      <td>William Petty</td>\n",
       "      <td>Coached</td>\n",
       "      <td>1303.0</td>\n",
       "      <td>1320.0</td>\n",
       "      <td>2624.0</td>\n",
       "      <td>10km</td>\n",
       "      <td>13+</td>\n",
       "      <td>Male</td>\n",
       "      <td>Member</td>\n",
       "      <td>0.012879</td>\n",
       "    </tr>\n",
       "    <tr>\n",
       "      <th>2</th>\n",
       "      <td>Chris Timms</td>\n",
       "      <td>Dulwich Runners</td>\n",
       "      <td>1335.0</td>\n",
       "      <td>1407.0</td>\n",
       "      <td>2742.0</td>\n",
       "      <td>10km</td>\n",
       "      <td>13+</td>\n",
       "      <td>Male</td>\n",
       "      <td>Member</td>\n",
       "      <td>0.051173</td>\n",
       "    </tr>\n",
       "    <tr>\n",
       "      <th>3</th>\n",
       "      <td>Benoit Besnier</td>\n",
       "      <td>COS Coaching</td>\n",
       "      <td>1412.0</td>\n",
       "      <td>1442.0</td>\n",
       "      <td>2855.0</td>\n",
       "      <td>10km</td>\n",
       "      <td>13+</td>\n",
       "      <td>Male</td>\n",
       "      <td>Member</td>\n",
       "      <td>0.020804</td>\n",
       "    </tr>\n",
       "    <tr>\n",
       "      <th>4</th>\n",
       "      <td>Daniel Rose</td>\n",
       "      <td>Coached Fitness</td>\n",
       "      <td>1375.0</td>\n",
       "      <td>1481.0</td>\n",
       "      <td>2856.0</td>\n",
       "      <td>10km</td>\n",
       "      <td>13+</td>\n",
       "      <td>Male</td>\n",
       "      <td>Member</td>\n",
       "      <td>0.071573</td>\n",
       "    </tr>\n",
       "  </tbody>\n",
       "</table>\n",
       "</div>"
      ],
      "text/plain": [
       "              name             club   lap_1   lap_2    time distance   age  \\\n",
       "0  Malachy Kirwan              None  1269.0  1315.0  2584.0    10km    13+   \n",
       "1   William Petty           Coached  1303.0  1320.0  2624.0    10km    13+   \n",
       "2     Chris Timms   Dulwich Runners  1335.0  1407.0  2742.0    10km    13+   \n",
       "3  Benoit Besnier      COS Coaching  1412.0  1442.0  2855.0    10km    13+   \n",
       "4     Daniel Rose   Coached Fitness  1375.0  1481.0  2856.0    10km    13+   \n",
       "\n",
       "  gender club_membership  split_fraction  \n",
       "0   Male            None        0.034981  \n",
       "1   Male          Member        0.012879  \n",
       "2   Male          Member        0.051173  \n",
       "3   Male          Member        0.020804  \n",
       "4   Male          Member        0.071573  "
      ]
     },
     "execution_count": 69,
     "metadata": {},
     "output_type": "execute_result"
    }
   ],
   "source": [
    "df.head()"
   ]
  },
  {
   "cell_type": "markdown",
   "id": "d7e50c16",
   "metadata": {},
   "source": [
    "We can plot a histogram to get an idea of the distribution of postitive versus negative values (the dotted vertical line is 0). "
   ]
  },
  {
   "cell_type": "code",
   "execution_count": 70,
   "id": "bbc1f4fe",
   "metadata": {},
   "outputs": [
    {
     "data": {
      "image/png": "[encoded data removed]",
      "text/plain": [
       "<Figure size 432x288 with 1 Axes>"
      ]
     },
     "metadata": {
      "needs_background": "light"
     },
     "output_type": "display_data"
    }
   ],
   "source": [
    "plt.hist(df[\"split_fraction\"], color=\"cornflowerblue\", bins=10)\n",
    "plt.gcf().set_size_inches(6, 4)\n",
    "plt.axvline(0, color=\"k\", linestyle=\"--\")\n",
    "plt.title(\"Frequency Distribution of 10km Runners' Split Fraction\", fontsize=16)\n",
    "plt.xlabel(\"Split Fraction\", fontsize=14)\n",
    "plt.ylabel(\"No. of Runners\", fontsize=14);"
   ]
  },
  {
   "cell_type": "markdown",
   "id": "39970311",
   "metadata": {},
   "source": [
    "The values are roughly normally or bimodally distributed, with a minority having run faster in the second lap. \n",
    "\n",
    "We can make a count of this minority:"
   ]
  },
  {
   "cell_type": "code",
   "execution_count": 71,
   "id": "23d497aa",
   "metadata": {
    "scrolled": true
   },
   "outputs": [
    {
     "data": {
      "text/plain": [
       "9"
      ]
     },
     "execution_count": 71,
     "metadata": {},
     "output_type": "execute_result"
    }
   ],
   "source": [
    "sum(df['split_fraction']<0)"
   ]
  },
  {
   "cell_type": "markdown",
   "id": "4303ccc2",
   "metadata": {},
   "source": [
    "This is less than one percent of the 114 runners. Let's see who the 9 runners were."
   ]
  },
  {
   "cell_type": "code",
   "execution_count": 72,
   "id": "11f143a6",
   "metadata": {},
   "outputs": [],
   "source": [
    "negative_splitters = df[df['split_fraction']<0]"
   ]
  },
  {
   "cell_type": "code",
   "execution_count": 73,
   "id": "862a19af",
   "metadata": {},
   "outputs": [
    {
     "data": {
      "text/html": [
       "<div>\n",
       "<style scoped>\n",
       "    .dataframe tbody tr th:only-of-type {\n",
       "        vertical-align: middle;\n",
       "    }\n",
       "\n",
       "    .dataframe tbody tr th {\n",
       "        vertical-align: top;\n",
       "    }\n",
       "\n",
       "    .dataframe thead th {\n",
       "        text-align: right;\n",
       "    }\n",
       "</style>\n",
       "<table border=\"1\" class=\"dataframe\">\n",
       "  <thead>\n",
       "    <tr style=\"text-align: right;\">\n",
       "      <th></th>\n",
       "      <th>name</th>\n",
       "      <th>club</th>\n",
       "      <th>lap_1</th>\n",
       "      <th>lap_2</th>\n",
       "      <th>time</th>\n",
       "      <th>distance</th>\n",
       "      <th>age</th>\n",
       "      <th>gender</th>\n",
       "      <th>club_membership</th>\n",
       "      <th>split_fraction</th>\n",
       "    </tr>\n",
       "  </thead>\n",
       "  <tbody>\n",
       "    <tr>\n",
       "      <th>7</th>\n",
       "      <td>Tycen Bundgaard</td>\n",
       "      <td>None</td>\n",
       "      <td>1501.0</td>\n",
       "      <td>1487.0</td>\n",
       "      <td>2988.0</td>\n",
       "      <td>10km</td>\n",
       "      <td>13+</td>\n",
       "      <td>Male</td>\n",
       "      <td>None</td>\n",
       "      <td>-0.009415</td>\n",
       "    </tr>\n",
       "    <tr>\n",
       "      <th>18</th>\n",
       "      <td>David Wager</td>\n",
       "      <td>None</td>\n",
       "      <td>1702.0</td>\n",
       "      <td>1669.0</td>\n",
       "      <td>3372.0</td>\n",
       "      <td>10km</td>\n",
       "      <td>13+</td>\n",
       "      <td>Male</td>\n",
       "      <td>None</td>\n",
       "      <td>-0.019772</td>\n",
       "    </tr>\n",
       "    <tr>\n",
       "      <th>26</th>\n",
       "      <td>Mathieu Borris</td>\n",
       "      <td>None</td>\n",
       "      <td>1858.0</td>\n",
       "      <td>1852.0</td>\n",
       "      <td>3710.0</td>\n",
       "      <td>10km</td>\n",
       "      <td>13+</td>\n",
       "      <td>Male</td>\n",
       "      <td>None</td>\n",
       "      <td>-0.003240</td>\n",
       "    </tr>\n",
       "    <tr>\n",
       "      <th>27</th>\n",
       "      <td>Vignesh Karunamoorthy</td>\n",
       "      <td>None</td>\n",
       "      <td>1881.0</td>\n",
       "      <td>1866.0</td>\n",
       "      <td>3747.0</td>\n",
       "      <td>10km</td>\n",
       "      <td>13+</td>\n",
       "      <td>Male</td>\n",
       "      <td>None</td>\n",
       "      <td>-0.008039</td>\n",
       "    </tr>\n",
       "    <tr>\n",
       "      <th>52</th>\n",
       "      <td>Samantha Collings</td>\n",
       "      <td>None</td>\n",
       "      <td>1961.0</td>\n",
       "      <td>1929.0</td>\n",
       "      <td>3890.0</td>\n",
       "      <td>10km</td>\n",
       "      <td>13+</td>\n",
       "      <td>Female</td>\n",
       "      <td>None</td>\n",
       "      <td>-0.016589</td>\n",
       "    </tr>\n",
       "    <tr>\n",
       "      <th>53</th>\n",
       "      <td>Sarah Boyle</td>\n",
       "      <td>None</td>\n",
       "      <td>2021.0</td>\n",
       "      <td>1899.0</td>\n",
       "      <td>3920.0</td>\n",
       "      <td>10km</td>\n",
       "      <td>13+</td>\n",
       "      <td>Female</td>\n",
       "      <td>None</td>\n",
       "      <td>-0.064244</td>\n",
       "    </tr>\n",
       "    <tr>\n",
       "      <th>63</th>\n",
       "      <td>Véronique Gille</td>\n",
       "      <td>None</td>\n",
       "      <td>1963.0</td>\n",
       "      <td>1946.0</td>\n",
       "      <td>3909.0</td>\n",
       "      <td>10km</td>\n",
       "      <td>13+</td>\n",
       "      <td>Female</td>\n",
       "      <td>None</td>\n",
       "      <td>-0.008736</td>\n",
       "    </tr>\n",
       "    <tr>\n",
       "      <th>66</th>\n",
       "      <td>Nicola Wilson</td>\n",
       "      <td>Dulwich Runners</td>\n",
       "      <td>2073.0</td>\n",
       "      <td>2061.0</td>\n",
       "      <td>4134.0</td>\n",
       "      <td>10km</td>\n",
       "      <td>13+</td>\n",
       "      <td>Female</td>\n",
       "      <td>Member</td>\n",
       "      <td>-0.005822</td>\n",
       "    </tr>\n",
       "    <tr>\n",
       "      <th>76</th>\n",
       "      <td>Dan Smith</td>\n",
       "      <td>matadorRACING</td>\n",
       "      <td>1440.0</td>\n",
       "      <td>1438.0</td>\n",
       "      <td>2879.0</td>\n",
       "      <td>10km</td>\n",
       "      <td>40+</td>\n",
       "      <td>Male</td>\n",
       "      <td>Member</td>\n",
       "      <td>-0.001391</td>\n",
       "    </tr>\n",
       "  </tbody>\n",
       "</table>\n",
       "</div>"
      ],
      "text/plain": [
       "                     name             club   lap_1   lap_2    time distance  \\\n",
       "7        Tycen Bundgaard              None  1501.0  1487.0  2988.0    10km    \n",
       "18           David Wager              None  1702.0  1669.0  3372.0    10km    \n",
       "26         Mathieu Borris             None  1858.0  1852.0  3710.0    10km    \n",
       "27  Vignesh Karunamoorthy             None  1881.0  1866.0  3747.0    10km    \n",
       "52     Samantha Collings              None  1961.0  1929.0  3890.0    10km    \n",
       "53           Sarah Boyle              None  2021.0  1899.0  3920.0    10km    \n",
       "63       Véronique Gille              None  1963.0  1946.0  3909.0    10km    \n",
       "66         Nicola Wilson   Dulwich Runners  2073.0  2061.0  4134.0    10km    \n",
       "76             Dan Smith     matadorRACING  1440.0  1438.0  2879.0    10km    \n",
       "\n",
       "     age  gender club_membership  split_fraction  \n",
       "7    13+    Male            None       -0.009415  \n",
       "18   13+    Male            None       -0.019772  \n",
       "26   13+    Male            None       -0.003240  \n",
       "27   13+    Male            None       -0.008039  \n",
       "52   13+  Female            None       -0.016589  \n",
       "53   13+  Female            None       -0.064244  \n",
       "63   13+  Female            None       -0.008736  \n",
       "66   13+  Female          Member       -0.005822  \n",
       "76   40+    Male          Member       -0.001391  "
      ]
     },
     "execution_count": 73,
     "metadata": {},
     "output_type": "execute_result"
    }
   ],
   "source": [
    "negative_splitters"
   ]
  },
  {
   "cell_type": "markdown",
   "id": "5019b0d7",
   "metadata": {},
   "source": [
    "It seems that only one of them was 40+ in age and 2 were in clubs. These proportions are less than what was seen from the whole 10km group. The gender distribution is pretty even, which means that the female representation is higher than in the whole 10km group. \n",
    "\n",
    "We can highlight them on the swarm plot to see where they were in the cohort."
   ]
  },
  {
   "cell_type": "code",
   "execution_count": 74,
   "id": "8adf76b1",
   "metadata": {
    "scrolled": false
   },
   "outputs": [
    {
     "data": {
      "image/png": "[encoded data removed]",
      "text/plain": [
       "<Figure size 576x576 with 1 Axes>"
      ]
     },
     "metadata": {},
     "output_type": "display_data"
    }
   ],
   "source": [
    "plt.figure(figsize=(8, 8), facecolor=\"w\", edgecolor=\"k\")\n",
    "sns.violinplot(x=\"gender\", y=\"time\", data=df, inner=\"quartile\", palette=\"pastel\")\n",
    "sns.swarmplot(x=\"gender\", y=\"time\", data=df, color=\"indigo\")\n",
    "sns.swarmplot(x=\"gender\", y=\"time\", data=negative_splitters, color=\"r\")\n",
    "plt.xticks(fontsize=14)\n",
    "plt.yticks(fontsize=14)\n",
    "plt.xlabel(\"Gender\", fontsize=16)\n",
    "plt.ylabel(\"Timing\", fontsize=16)\n",
    "plt.title(\"Distribution of 10km Runners' Timings by Gender and Split Fraction\", fontsize=18)\n",
    "plt.text(-0.35, 7500, \"Runners with negative \\n split fractions in red \", bbox={'facecolor': 'white', 'pad': 3})\n",
    "plt.gca().yaxis.set_major_formatter(ticker.FuncFormatter(time_tick_formatter))\n",
    "plt.gca().yaxis.set_major_locator(ticker.MultipleLocator(base=900))"
   ]
  },
  {
   "cell_type": "markdown",
   "id": "b33ee490",
   "metadata": {},
   "source": [
    "Here, we can see that the males were quite spread out throughout the top 75 percent of the male population. In comparison, the females were somewhat clustered at the 25th percentile. For both genders, the runners were not in the top 5."
   ]
  },
  {
   "cell_type": "markdown",
   "id": "d12a557e",
   "metadata": {},
   "source": [
    "## Conclusion\n",
    "\n",
    "The dataset of 10km runners contained a larger representation (twice as many) of runners who were male, below 40 and not from running clubs. \n",
    "\n",
    "From this analysis, we can see that the gender groupings had their own distinct features, such as the range and the median. There was a wider range for females, and the median timing for males was 23min less than for females. We also observed the data demarcated by quartiles, and how an individual could be compared with the rest of their group.\n",
    "\n",
    "The age distribution (split into runners aged 13-39 and 40+) did not drastically differ between males and females, with just a slightly higher proportion of runners aged 40+ for females. However, the way the runners were spread out within their gender group differed. For the males, the fastest few runners were aged 13-39, and the slowest was 40 or above. For the females, however, the runners 40 and above spanned the full range of the gender group. The fastest female 10km runner was 40 or above. When the median timings were calculated, it was lower for runners aged 13-39 for both genders. \n",
    "\n",
    "It was found that the runners in clubs were generally faster for both gender groups. For the males, they were seen to dominate the 1st quartile of their gender. For the females, almost all were in the fastest 50% of their gender. For the runners from clubs alone, observations made about the age of the fastest and slowest runners in each gender group were similar to those made when the runners not in clubs were also included. Controlling for age and gender, membership in a club was indicative of faster timings based on the sample medians. This may be because being in a club provides access to structured group training, which may have been a contributing factor to these runners generally having better timings. \n",
    "\n",
    "Among club members as a whole, there were slightly less females and those 40 and above as compared to the group of runners not in clubs. \n",
    "\n",
    "Race split analysis indicated that a large majority of runners took a longer time to run their second lap (out of two laps in total). Only less than one percent ran their second lap faster than their first lap. They were not among the top 5 runners for each gender. "
   ]
  }
 ],
 "metadata": {
  "kernelspec": {
   "display_name": "Python 3",
   "language": "python",
   "name": "python3"
  },
  "language_info": {
   "codemirror_mode": {
    "name": "ipython",
    "version": 3
   },
   "file_extension": ".py",
   "mimetype": "text/x-python",
   "name": "python",
   "nbconvert_exporter": "python",
   "pygments_lexer": "ipython3",
   "version": "3.9.5"
  }
 },
 "nbformat": 4,
 "nbformat_minor": 5
}
